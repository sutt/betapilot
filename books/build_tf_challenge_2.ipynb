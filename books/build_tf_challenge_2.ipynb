{
 "cells": [
  {
   "cell_type": "code",
   "execution_count": 5,
   "metadata": {
    "collapsed": true
   },
   "outputs": [],
   "source": [
    "import os, sys, random, copy\n",
    "import numpy as np\n",
    "import cv2\n",
    "import pandas as pd\n",
    "import tensorflow as tf\n",
    "from tensorflow import keras\n",
    "from tensorflow.keras.models import Sequential\n",
    "from tensorflow.keras.layers import (Dense, Conv2D, Dropout, \n",
    "                                     Flatten, MaxPooling2D)\n",
    "from matplotlib import pyplot as plt\n",
    "%matplotlib inline"
   ]
  },
  {
   "cell_type": "code",
   "execution_count": 6,
   "metadata": {},
   "outputs": [
    {
     "name": "stdout",
     "output_type": "stream",
     "text": [
      "The autoreload extension is already loaded. To reload it, use:\n",
      "  %reload_ext autoreload\n"
     ]
    }
   ],
   "source": [
    "%load_ext autoreload\n",
    "%autoreload 2"
   ]
  },
  {
   "cell_type": "code",
   "execution_count": 7,
   "metadata": {},
   "outputs": [],
   "source": [
    "sys.path.append('../')"
   ]
  },
  {
   "cell_type": "code",
   "execution_count": 70,
   "metadata": {},
   "outputs": [],
   "source": [
    "from utils.misc import contrivedLabel, plotLabel, summaryStats, bagData"
   ]
  },
  {
   "cell_type": "code",
   "execution_count": 12,
   "metadata": {
    "collapsed": true
   },
   "outputs": [],
   "source": [
    "from models.model import ModelBuilder"
   ]
  },
  {
   "cell_type": "markdown",
   "metadata": {},
   "source": [
    "here we build a \"contrived-label\" - a numerical target with some connection to the image data to train out models on. \n",
    "\n",
    "First we build min/max x/y coord where a pixel value is non-zero.\n",
    "\n",
    "This should help us figure out a pattern for predicting point(s) from images."
   ]
  },
  {
   "cell_type": "markdown",
   "metadata": {},
   "source": [
    "### Build Data"
   ]
  },
  {
   "cell_type": "code",
   "execution_count": 9,
   "metadata": {
    "collapsed": true
   },
   "outputs": [],
   "source": [
    "(x_train, y_train), (x_test, y_test) = tf.keras.datasets.mnist.load_data()"
   ]
  },
  {
   "cell_type": "code",
   "execution_count": 22,
   "metadata": {
    "collapsed": true
   },
   "outputs": [],
   "source": [
    "# build contrived label\n",
    "ret_type = 'min_y'\n",
    "\n",
    "y_train_2 = np.array(\n",
    "                [contrivedLabel(_img, ret=ret_type) for _img in x_train]\n",
    "                ,dtype='uint8'\n",
    "                )\n",
    "y_test_2 = np.array(\n",
    "                [contrivedLabel(_img, ret=ret_type) for _img in x_test]\n",
    "                ,dtype='uint8'\n",
    "                )"
   ]
  },
  {
   "cell_type": "code",
   "execution_count": 11,
   "metadata": {},
   "outputs": [
    {
     "data": {
      "text/plain": [
       "(array([5, 4, 5, 5], dtype=uint8), array([7, 3, 4, 4], dtype=uint8))"
      ]
     },
     "execution_count": 11,
     "metadata": {},
     "output_type": "execute_result"
    }
   ],
   "source": [
    "y_train_2[:4], y_test_2[:4]"
   ]
  },
  {
   "cell_type": "markdown",
   "metadata": {},
   "source": [
    "### Explore Data"
   ]
  },
  {
   "cell_type": "code",
   "execution_count": 15,
   "metadata": {
    "scrolled": true
   },
   "outputs": [
    {
     "name": "stdout",
     "output_type": "stream",
     "text": [
      "21707\n"
     ]
    },
    {
     "data": {
      "image/png": "[encoded data removed]",
      "text/plain": [
       "<Figure size 432x288 with 1 Axes>"
      ]
     },
     "metadata": {
      "needs_background": "light"
     },
     "output_type": "display_data"
    },
    {
     "name": "stdout",
     "output_type": "stream",
     "text": [
      "114\n"
     ]
    },
    {
     "data": {
      "image/png": "[encoded data removed]",
      "text/plain": [
       "<Figure size 432x288 with 1 Axes>"
      ]
     },
     "metadata": {
      "needs_background": "light"
     },
     "output_type": "display_data"
    },
    {
     "name": "stdout",
     "output_type": "stream",
     "text": [
      "7895\n"
     ]
    },
    {
     "data": {
      "image/png": "[encoded data removed]",
      "text/plain": [
       "<Figure size 432x288 with 1 Axes>"
      ]
     },
     "metadata": {
      "needs_background": "light"
     },
     "output_type": "display_data"
    },
    {
     "name": "stdout",
     "output_type": "stream",
     "text": [
      "38829\n"
     ]
    },
    {
     "data": {
      "image/png": "[encoded data removed]",
      "text/plain": [
       "<Figure size 432x288 with 1 Axes>"
      ]
     },
     "metadata": {
      "needs_background": "light"
     },
     "output_type": "display_data"
    },
    {
     "name": "stdout",
     "output_type": "stream",
     "text": [
      "7606\n"
     ]
    },
    {
     "data": {
      "image/png": "[encoded data removed]",
      "text/plain": [
       "<Figure size 432x288 with 1 Axes>"
      ]
     },
     "metadata": {
      "needs_background": "light"
     },
     "output_type": "display_data"
    }
   ],
   "source": [
    "# plot the contrived label onto the image\n",
    "# note: change plotLabel(y=) ->plotLabel(x=) or plotLabel(point=)\n",
    "N=5\n",
    "IMG_DATASET = x_train\n",
    "TRUTH_DATASET = y_train_2\n",
    "\n",
    "for _i in random.sample(range(len(IMG_DATASET)), N):\n",
    "    print(_i)\n",
    "    plotLabel(IMG_DATASET[_i], y = TRUTH_DATASET[_i])"
   ]
  },
  {
   "cell_type": "code",
   "execution_count": 23,
   "metadata": {
    "scrolled": true
   },
   "outputs": [
    {
     "data": {
      "image/png": "[encoded data removed]",
      "text/plain": [
       "<Figure size 432x288 with 1 Axes>"
      ]
     },
     "metadata": {
      "needs_background": "light"
     },
     "output_type": "display_data"
    },
    {
     "data": {
      "text/plain": [
       "(array([  45.,  541.,  867., 2902., 2837., 1570., 1043.,  169.,   21.,\n",
       "           5.]),\n",
       " array([ 1.,  2.,  3.,  4.,  5.,  6.,  7.,  8.,  9., 10., 11.]),\n",
       " <a list of 10 Patch objects>)"
      ]
     },
     "execution_count": 23,
     "metadata": {},
     "output_type": "execute_result"
    },
    {
     "data": {
      "image/png": "[encoded data removed]",
      "text/plain": [
       "<Figure size 432x288 with 1 Axes>"
      ]
     },
     "metadata": {
      "needs_background": "light"
     },
     "output_type": "display_data"
    }
   ],
   "source": [
    "plt.hist(y_train_2, bins=10 )\n",
    "plt.show()\n",
    "plt.hist(y_test_2, bins=10 )"
   ]
  },
  {
   "cell_type": "code",
   "execution_count": 27,
   "metadata": {},
   "outputs": [
    {
     "name": "stdout",
     "output_type": "stream",
     "text": [
      "mean y      : 4.8\n",
      "mean abs err: 1.11\n",
      "mean sq err:  1.98\n",
      "---------------\n",
      "mean y      : 4.78\n",
      "mean abs err: 1.1\n",
      "mean sq err:  1.92\n"
     ]
    }
   ],
   "source": [
    "summaryStats(y_train_2)\n",
    "print('---------------')\n",
    "summaryStats(y_test_2)"
   ]
  },
  {
   "cell_type": "markdown",
   "metadata": {},
   "source": [
    "### Build Models"
   ]
  },
  {
   "cell_type": "code",
   "execution_count": 103,
   "metadata": {
    "collapsed": true
   },
   "outputs": [],
   "source": [
    "from models.model import ModelBuilder"
   ]
  },
  {
   "cell_type": "code",
   "execution_count": 104,
   "metadata": {},
   "outputs": [],
   "source": [
    "mb = ModelBuilder()"
   ]
  },
  {
   "cell_type": "code",
   "execution_count": 105,
   "metadata": {
    "collapsed": true
   },
   "outputs": [],
   "source": [
    "x_train_norm = mb.normData(x_train)\n",
    "x_test_norm = mb.normData(x_test)"
   ]
  },
  {
   "cell_type": "code",
   "execution_count": 106,
   "metadata": {},
   "outputs": [
    {
     "name": "stdout",
     "output_type": "stream",
     "text": [
      "(28, 28, 1)\n"
     ]
    }
   ],
   "source": [
    "input_shape = x_train_norm[0].shape\n",
    "mb.setInputShape(input_shape)\n",
    "print(mb.inputShape)"
   ]
  },
  {
   "cell_type": "markdown",
   "metadata": {},
   "source": [
    "##### Bag Data"
   ]
  },
  {
   "cell_type": "code",
   "execution_count": 107,
   "metadata": {},
   "outputs": [
    {
     "name": "stdout",
     "output_type": "stream",
     "text": [
      "10 6000 6000\n",
      "10 6000 6000\n"
     ]
    }
   ],
   "source": [
    "x_bag_train = bagData(x_train_norm)\n",
    "y2_bag_train = bagData(y_train_2)"
   ]
  },
  {
   "cell_type": "code",
   "execution_count": 108,
   "metadata": {},
   "outputs": [
    {
     "name": "stdout",
     "output_type": "stream",
     "text": [
      "0\n",
      "6000/6000 [==============================] - 5s 754us/sample - loss: 2549.8976 - mean_absolute_error: 11.2088 - mean_squared_error: 2549.8977\n"
     ]
    }
   ],
   "source": [
    "print(mb.k)\n",
    "mb.buildModel()\n",
    "BAG=1\n",
    "mb.fitModel(x=x_bag_train[BAG], y=y2_bag_train[BAG], epochs=1)"
   ]
  },
  {
   "cell_type": "code",
   "execution_count": 109,
   "metadata": {},
   "outputs": [
    {
     "name": "stdout",
     "output_type": "stream",
     "text": [
      "1\n",
      "Epoch 1/5\n",
      "6000/6000 [==============================] - 4s 712us/sample - loss: 2337.2771 - mean_absolute_error: 7.7120 - mean_squared_error: 2337.2778\n",
      "Epoch 2/5\n",
      "6000/6000 [==============================] - 4s 679us/sample - loss: 3.5323 - mean_absolute_error: 1.4081 - mean_squared_error: 3.5323\n",
      "Epoch 3/5\n",
      "6000/6000 [==============================] - 4s 669us/sample - loss: 2.4581 - mean_absolute_error: 1.2226 - mean_squared_error: 2.4581\n",
      "Epoch 4/5\n",
      "6000/6000 [==============================] - 4s 674us/sample - loss: 2.1260 - mean_absolute_error: 1.1125 - mean_squared_error: 2.1260\n",
      "Epoch 5/5\n",
      "6000/6000 [==============================] - 4s 676us/sample - loss: 1.7833 - mean_absolute_error: 1.0291 - mean_squared_error: 1.7833\n"
     ]
    }
   ],
   "source": [
    "print(mb.k)\n",
    "mb.buildModel()\n",
    "BAG=1\n",
    "mb.fitModel(x=x_bag_train[BAG], y=y2_bag_train[BAG], epochs=5)"
   ]
  },
  {
   "cell_type": "code",
   "execution_count": 110,
   "metadata": {},
   "outputs": [
    {
     "name": "stdout",
     "output_type": "stream",
     "text": [
      "2\n",
      "Epoch 1/10\n",
      "6000/6000 [==============================] - 4s 712us/sample - loss: 1223.4268 - mean_absolute_error: 7.9403 - mean_squared_error: 1223.4271\n",
      "Epoch 2/10\n",
      "6000/6000 [==============================] - 4s 682us/sample - loss: 2.8565 - mean_absolute_error: 1.2993 - mean_squared_error: 2.8565\n",
      "Epoch 3/10\n",
      "6000/6000 [==============================] - 4s 689us/sample - loss: 2.2608 - mean_absolute_error: 1.1541 - mean_squared_error: 2.2608\n",
      "Epoch 4/10\n",
      "6000/6000 [==============================] - 4s 688us/sample - loss: 2.0485 - mean_absolute_error: 1.0789 - mean_squared_error: 2.0485\n",
      "Epoch 5/10\n",
      "6000/6000 [==============================] - 4s 693us/sample - loss: 1.6260 - mean_absolute_error: 0.9972 - mean_squared_error: 1.6260 - loss: 1.5927 - me\n",
      "Epoch 6/10\n",
      "6000/6000 [==============================] - 4s 701us/sample - loss: 1.5269 - mean_absolute_error: 0.9585 - mean_squared_error: 1.5269\n",
      "Epoch 7/10\n",
      "6000/6000 [==============================] - 4s 716us/sample - loss: 1.4295 - mean_absolute_error: 0.9343 - mean_squared_error: 1.4295 - loss: 1.4001 - mean_absolute_error: 0.9\n",
      "Epoch 8/10\n",
      "6000/6000 [==============================] - 4s 737us/sample - loss: 1.3622 - mean_absolute_error: 0.9039 - mean_squared_error: 1.3622\n",
      "Epoch 9/10\n",
      "6000/6000 [==============================] - 4s 737us/sample - loss: 1.2795 - mean_absolute_error: 0.8723 - mean_squared_error: 1.2795\n",
      "Epoch 10/10\n",
      "6000/6000 [==============================] - 5s 772us/sample - loss: 1.2982 - mean_absolute_error: 0.8778 - mean_squared_error: 1.2982\n"
     ]
    }
   ],
   "source": [
    "print(mb.k)\n",
    "mb.buildModel()\n",
    "BAG=1\n",
    "mb.fitModel(x=x_bag_train[BAG], y=y2_bag_train[BAG], epochs=10)"
   ]
  },
  {
   "cell_type": "code",
   "execution_count": 115,
   "metadata": {},
   "outputs": [],
   "source": [
    "history = mb.history.copy()"
   ]
  },
  {
   "cell_type": "code",
   "execution_count": 116,
   "metadata": {
    "collapsed": true
   },
   "outputs": [],
   "source": [
    "from IPython.display import display"
   ]
  },
  {
   "cell_type": "code",
   "execution_count": 118,
   "metadata": {},
   "outputs": [
    {
     "data": {
      "text/html": [
       "<div>\n",
       "<style scoped>\n",
       "    .dataframe tbody tr th:only-of-type {\n",
       "        vertical-align: middle;\n",
       "    }\n",
       "\n",
       "    .dataframe tbody tr th {\n",
       "        vertical-align: top;\n",
       "    }\n",
       "\n",
       "    .dataframe thead th {\n",
       "        text-align: right;\n",
       "    }\n",
       "</style>\n",
       "<table border=\"1\" class=\"dataframe\">\n",
       "  <thead>\n",
       "    <tr style=\"text-align: right;\">\n",
       "      <th></th>\n",
       "      <th>loss</th>\n",
       "      <th>mean_absolute_error</th>\n",
       "      <th>mean_squared_error</th>\n",
       "    </tr>\n",
       "  </thead>\n",
       "  <tbody>\n",
       "    <tr>\n",
       "      <th>0</th>\n",
       "      <td>2549.897563</td>\n",
       "      <td>11.208786</td>\n",
       "      <td>2549.897705</td>\n",
       "    </tr>\n",
       "  </tbody>\n",
       "</table>\n",
       "</div>"
      ],
      "text/plain": [
       "          loss  mean_absolute_error  mean_squared_error\n",
       "0  2549.897563            11.208786         2549.897705"
      ]
     },
     "metadata": {},
     "output_type": "display_data"
    },
    {
     "data": {
      "text/html": [
       "<div>\n",
       "<style scoped>\n",
       "    .dataframe tbody tr th:only-of-type {\n",
       "        vertical-align: middle;\n",
       "    }\n",
       "\n",
       "    .dataframe tbody tr th {\n",
       "        vertical-align: top;\n",
       "    }\n",
       "\n",
       "    .dataframe thead th {\n",
       "        text-align: right;\n",
       "    }\n",
       "</style>\n",
       "<table border=\"1\" class=\"dataframe\">\n",
       "  <thead>\n",
       "    <tr style=\"text-align: right;\">\n",
       "      <th></th>\n",
       "      <th>loss</th>\n",
       "      <th>mean_absolute_error</th>\n",
       "      <th>mean_squared_error</th>\n",
       "    </tr>\n",
       "  </thead>\n",
       "  <tbody>\n",
       "    <tr>\n",
       "      <th>0</th>\n",
       "      <td>2337.277104</td>\n",
       "      <td>7.711984</td>\n",
       "      <td>2337.277832</td>\n",
       "    </tr>\n",
       "    <tr>\n",
       "      <th>1</th>\n",
       "      <td>3.532317</td>\n",
       "      <td>1.408132</td>\n",
       "      <td>3.532316</td>\n",
       "    </tr>\n",
       "    <tr>\n",
       "      <th>2</th>\n",
       "      <td>2.458113</td>\n",
       "      <td>1.222613</td>\n",
       "      <td>2.458113</td>\n",
       "    </tr>\n",
       "    <tr>\n",
       "      <th>3</th>\n",
       "      <td>2.126035</td>\n",
       "      <td>1.112461</td>\n",
       "      <td>2.126035</td>\n",
       "    </tr>\n",
       "    <tr>\n",
       "      <th>4</th>\n",
       "      <td>1.783316</td>\n",
       "      <td>1.029139</td>\n",
       "      <td>1.783316</td>\n",
       "    </tr>\n",
       "  </tbody>\n",
       "</table>\n",
       "</div>"
      ],
      "text/plain": [
       "          loss  mean_absolute_error  mean_squared_error\n",
       "0  2337.277104             7.711984         2337.277832\n",
       "1     3.532317             1.408132            3.532316\n",
       "2     2.458113             1.222613            2.458113\n",
       "3     2.126035             1.112461            2.126035\n",
       "4     1.783316             1.029139            1.783316"
      ]
     },
     "metadata": {},
     "output_type": "display_data"
    },
    {
     "data": {
      "text/html": [
       "<div>\n",
       "<style scoped>\n",
       "    .dataframe tbody tr th:only-of-type {\n",
       "        vertical-align: middle;\n",
       "    }\n",
       "\n",
       "    .dataframe tbody tr th {\n",
       "        vertical-align: top;\n",
       "    }\n",
       "\n",
       "    .dataframe thead th {\n",
       "        text-align: right;\n",
       "    }\n",
       "</style>\n",
       "<table border=\"1\" class=\"dataframe\">\n",
       "  <thead>\n",
       "    <tr style=\"text-align: right;\">\n",
       "      <th></th>\n",
       "      <th>loss</th>\n",
       "      <th>mean_absolute_error</th>\n",
       "      <th>mean_squared_error</th>\n",
       "    </tr>\n",
       "  </thead>\n",
       "  <tbody>\n",
       "    <tr>\n",
       "      <th>0</th>\n",
       "      <td>1223.426801</td>\n",
       "      <td>7.940252</td>\n",
       "      <td>1223.427124</td>\n",
       "    </tr>\n",
       "    <tr>\n",
       "      <th>1</th>\n",
       "      <td>2.856493</td>\n",
       "      <td>1.299265</td>\n",
       "      <td>2.856494</td>\n",
       "    </tr>\n",
       "    <tr>\n",
       "      <th>2</th>\n",
       "      <td>2.260845</td>\n",
       "      <td>1.154134</td>\n",
       "      <td>2.260845</td>\n",
       "    </tr>\n",
       "    <tr>\n",
       "      <th>3</th>\n",
       "      <td>2.048519</td>\n",
       "      <td>1.078905</td>\n",
       "      <td>2.048520</td>\n",
       "    </tr>\n",
       "    <tr>\n",
       "      <th>4</th>\n",
       "      <td>1.626040</td>\n",
       "      <td>0.997235</td>\n",
       "      <td>1.626040</td>\n",
       "    </tr>\n",
       "    <tr>\n",
       "      <th>5</th>\n",
       "      <td>1.526887</td>\n",
       "      <td>0.958457</td>\n",
       "      <td>1.526886</td>\n",
       "    </tr>\n",
       "    <tr>\n",
       "      <th>6</th>\n",
       "      <td>1.429531</td>\n",
       "      <td>0.934326</td>\n",
       "      <td>1.429532</td>\n",
       "    </tr>\n",
       "    <tr>\n",
       "      <th>7</th>\n",
       "      <td>1.362200</td>\n",
       "      <td>0.903909</td>\n",
       "      <td>1.362200</td>\n",
       "    </tr>\n",
       "    <tr>\n",
       "      <th>8</th>\n",
       "      <td>1.279481</td>\n",
       "      <td>0.872333</td>\n",
       "      <td>1.279481</td>\n",
       "    </tr>\n",
       "    <tr>\n",
       "      <th>9</th>\n",
       "      <td>1.298186</td>\n",
       "      <td>0.877830</td>\n",
       "      <td>1.298186</td>\n",
       "    </tr>\n",
       "  </tbody>\n",
       "</table>\n",
       "</div>"
      ],
      "text/plain": [
       "          loss  mean_absolute_error  mean_squared_error\n",
       "0  1223.426801             7.940252         1223.427124\n",
       "1     2.856493             1.299265            2.856494\n",
       "2     2.260845             1.154134            2.260845\n",
       "3     2.048519             1.078905            2.048520\n",
       "4     1.626040             0.997235            1.626040\n",
       "5     1.526887             0.958457            1.526886\n",
       "6     1.429531             0.934326            1.429532\n",
       "7     1.362200             0.903909            1.362200\n",
       "8     1.279481             0.872333            1.279481\n",
       "9     1.298186             0.877830            1.298186"
      ]
     },
     "metadata": {},
     "output_type": "display_data"
    }
   ],
   "source": [
    "for _hist in history.values():\n",
    "    display(pd.DataFrame(_hist.history))"
   ]
  },
  {
   "cell_type": "code",
   "execution_count": 121,
   "metadata": {},
   "outputs": [
    {
     "data": {
      "text/plain": [
       "{'loss': [2549.8975629517236],\n",
       " 'mean_absolute_error': [11.208786],\n",
       " 'mean_squared_error': [2549.8977]}"
      ]
     },
     "execution_count": 121,
     "metadata": {},
     "output_type": "execute_result"
    }
   ],
   "source": [
    "history1.history"
   ]
  },
  {
   "cell_type": "code",
   "execution_count": 131,
   "metadata": {
    "collapsed": true
   },
   "outputs": [],
   "source": [
    "from models.model import ModelBuilder"
   ]
  },
  {
   "cell_type": "code",
   "execution_count": 137,
   "metadata": {
    "collapsed": true
   },
   "outputs": [],
   "source": [
    "mb2 = ModelBuilder()"
   ]
  },
  {
   "cell_type": "code",
   "execution_count": 135,
   "metadata": {
    "collapsed": true
   },
   "outputs": [],
   "source": [
    "BAG=1"
   ]
  },
  {
   "cell_type": "code",
   "execution_count": 138,
   "metadata": {
    "scrolled": true
   },
   "outputs": [
    {
     "name": "stdout",
     "output_type": "stream",
     "text": [
      "0\n",
      "Epoch 1/5\n",
      "6000/6000 [==============================] - 5s 752us/sample - loss: 2832.4824 - mean_absolute_error: 9.3280 - mean_squared_error: 2832.48020s - loss: 3539.6495 - mean_absolute_error: 11.2825 - mean_squared_error - ETA: 0s - loss: 3017.4010 - mean_absolute_error: 9.8585 - mean_squared_error:\n",
      "Epoch 2/5\n",
      "6000/6000 [==============================] - 4s 730us/sample - loss: 3.2163 - mean_absolute_error: 1.3750 - mean_squared_error: 3.2163\n",
      "Epoch 3/5\n",
      "6000/6000 [==============================] - 5s 752us/sample - loss: 2.2812 - mean_absolute_error: 1.1828 - mean_squared_error: 2.2812\n",
      "Epoch 4/5\n",
      "6000/6000 [==============================] - 5s 758us/sample - loss: 1.9302 - mean_absolute_error: 1.0923 - mean_squared_error: 1.9302\n",
      "Epoch 5/5\n",
      "6000/6000 [==============================] - 4s 736us/sample - loss: 1.7400 - mean_absolute_error: 1.0404 - mean_squared_error: 1.7400\n",
      "1\n",
      "Train on 4800 samples, validate on 1200 samples\n",
      "Epoch 1/5\n",
      "4800/4800 [==============================] - 4s 915us/sample - loss: 2855.5003 - mean_absolute_error: 8.6120 - mean_squared_error: 2855.5002 - val_loss: 0.8271 - val_mean_absolute_error: 0.6649 - val_mean_squared_error: 0.8271\n",
      "Epoch 2/5\n",
      "4800/4800 [==============================] - 4s 793us/sample - loss: 3.3988 - mean_absolute_error: 1.4376 - mean_squared_error: 3.3989 - val_loss: 0.6946 - val_mean_absolute_error: 0.5967 - val_mean_squared_error: 0.6946\n",
      "Epoch 3/5\n",
      "4800/4800 [==============================] - 4s 807us/sample - loss: 2.6626 - mean_absolute_error: 1.2547 - mean_squared_error: 2.6626 - val_loss: 5.4710 - val_mean_absolute_error: 2.2090 - val_mean_squared_error: 5.4710\n",
      "Epoch 4/5\n",
      "4800/4800 [==============================] - 4s 804us/sample - loss: 2.2339 - mean_absolute_error: 1.1537 - mean_squared_error: 2.2339 - val_loss: 0.8409 - val_mean_absolute_error: 0.7192 - val_mean_squared_error: 0.8409\n",
      "Epoch 5/5\n",
      "4800/4800 [==============================] - 4s 797us/sample - loss: 2.0237 - mean_absolute_error: 1.0987 - mean_squared_error: 2.0237 - val_loss: 0.8028 - val_mean_absolute_error: 0.7160 - val_mean_squared_error: 0.8028\n"
     ]
    }
   ],
   "source": [
    "print(mb2.k)\n",
    "mb2.setInputShape(input_shape)\n",
    "mb2.buildModel()\n",
    "mb2.fitModel(x=x_bag_train[BAG], y=y2_bag_train[BAG], epochs=5, \n",
    "        validation_split = 0.0)\n",
    "\n",
    "print(mb2.k)\n",
    "mb2.setInputShape(input_shape)\n",
    "mb2.buildModel()\n",
    "mb2.fitModel(x=x_bag_train[BAG], y=y2_bag_train[BAG], epochs=5, \n",
    "        validation_split = 0.2)"
   ]
  },
  {
   "cell_type": "code",
   "execution_count": 141,
   "metadata": {},
   "outputs": [
    {
     "data": {
      "image/png": "[encoded data removed]",
      "text/plain": [
       "<Figure size 432x288 with 1 Axes>"
      ]
     },
     "metadata": {
      "needs_background": "light"
     },
     "output_type": "display_data"
    },
    {
     "data": {
      "image/png": "[encoded data removed]",
      "text/plain": [
       "<Figure size 432x288 with 1 Axes>"
      ]
     },
     "metadata": {
      "needs_background": "light"
     },
     "output_type": "display_data"
    }
   ],
   "source": [
    "mb2.plotHistory(list(mb2.history.values())[0])\n",
    "mb2.plotHistory(list(mb2.history.values())[1])"
   ]
  },
  {
   "cell_type": "code",
   "execution_count": 158,
   "metadata": {},
   "outputs": [
    {
     "name": "stdout",
     "output_type": "stream",
     "text": [
      "3 20000 20000\n",
      "3 20000 20000\n"
     ]
    }
   ],
   "source": [
    "x_bag3 = bagData(x_train_norm, N=3)\n",
    "y_bag3 = bagData(y_train_2, N=3)"
   ]
  },
  {
   "cell_type": "code",
   "execution_count": 160,
   "metadata": {
    "collapsed": true
   },
   "outputs": [],
   "source": [
    "mb3 = ModelBuilder()"
   ]
  },
  {
   "cell_type": "code",
   "execution_count": 161,
   "metadata": {},
   "outputs": [
    {
     "name": "stdout",
     "output_type": "stream",
     "text": [
      "0\n",
      "Train on 4800 samples, validate on 1200 samples\n",
      "Epoch 1/10\n",
      "4800/4800 [==============================] - 4s 822us/sample - loss: 3832.2147 - mean_absolute_error: 9.6473 - mean_squared_error: 3832.2139 - val_loss: 2.3874 - val_mean_absolute_error: 1.3064 - val_mean_squared_error: 2.3874\n",
      "Epoch 2/10\n",
      "4800/4800 [==============================] - 4s 760us/sample - loss: 4.2535 - mean_absolute_error: 1.5560 - mean_squared_error: 4.2535 - val_loss: 1.0950 - val_mean_absolute_error: 0.8549 - val_mean_squared_error: 1.0950\n",
      "Epoch 3/10\n",
      "4800/4800 [==============================] - 4s 792us/sample - loss: 3.0873 - mean_absolute_error: 1.3678 - mean_squared_error: 3.0873 - val_loss: 0.6301 - val_mean_absolute_error: 0.6018 - val_mean_squared_error: 0.6301\n",
      "Epoch 4/10\n",
      "4800/4800 [==============================] - 4s 791us/sample - loss: 2.3309 - mean_absolute_error: 1.1819 - mean_squared_error: 2.3309 - val_loss: 0.5451 - val_mean_absolute_error: 0.5467 - val_mean_squared_error: 0.5451\n",
      "Epoch 5/10\n",
      "4800/4800 [==============================] - 4s 794us/sample - loss: 1.9766 - mean_absolute_error: 1.0980 - mean_squared_error: 1.9766 - val_loss: 1.2360 - val_mean_absolute_error: 0.9612 - val_mean_squared_error: 1.2360\n",
      "Epoch 6/10\n",
      "4800/4800 [==============================] - 4s 776us/sample - loss: 1.7682 - mean_absolute_error: 1.0427 - mean_squared_error: 1.7682 - val_loss: 0.7843 - val_mean_absolute_error: 0.7105 - val_mean_squared_error: 0.7843\n",
      "Epoch 7/10\n",
      "4800/4800 [==============================] - 4s 796us/sample - loss: 1.5394 - mean_absolute_error: 0.9456 - mean_squared_error: 1.5394 - val_loss: 0.4134 - val_mean_absolute_error: 0.4835 - val_mean_squared_error: 0.4134\n",
      "Epoch 8/10\n",
      "4800/4800 [==============================] - 4s 811us/sample - loss: 1.5052 - mean_absolute_error: 0.9612 - mean_squared_error: 1.5052 - val_loss: 0.5013 - val_mean_absolute_error: 0.5013 - val_mean_squared_error: 0.5013\n",
      "Epoch 9/10\n",
      "4800/4800 [==============================] - 4s 836us/sample - loss: 1.3821 - mean_absolute_error: 0.9200 - mean_squared_error: 1.3821 - val_loss: 0.8167 - val_mean_absolute_error: 0.7391 - val_mean_squared_error: 0.8167\n",
      "Epoch 10/10\n",
      "4800/4800 [==============================] - 4s 818us/sample - loss: 1.2707 - mean_absolute_error: 0.8837 - mean_squared_error: 1.2707 - val_loss: 1.0985 - val_mean_absolute_error: 0.8824 - val_mean_squared_error: 1.0985\n"
     ]
    }
   ],
   "source": [
    "BAG = 2\n",
    "print(mb3.k)\n",
    "mb3.setInputShape(input_shape)\n",
    "mb3.buildModel()\n",
    "mb3.fitModel(x=x_bag_train[BAG], y=y2_bag_train[BAG], epochs=10, \n",
    "        validation_split = 0.2)"
   ]
  },
  {
   "cell_type": "code",
   "execution_count": 162,
   "metadata": {},
   "outputs": [
    {
     "name": "stdout",
     "output_type": "stream",
     "text": [
      "1\n",
      "Train on 16000 samples, validate on 4000 samples\n",
      "Epoch 1/10\n",
      "16000/16000 [==============================] - 12s 778us/sample - loss: 1971.2892 - mean_absolute_error: 5.2528 - mean_squared_error: 1971.2888 - val_loss: 0.5093 - val_mean_absolute_error: 0.5216 - val_mean_squared_error: 0.5093\n",
      "Epoch 2/10\n",
      "16000/16000 [==============================] - 12s 760us/sample - loss: 2.1177 - mean_absolute_error: 1.1403 - mean_squared_error: 2.1177 - val_loss: 0.6389 - val_mean_absolute_error: 0.6161 - val_mean_squared_error: 0.6389\n",
      "Epoch 3/10\n",
      "16000/16000 [==============================] - 12s 750us/sample - loss: 1.5692 - mean_absolute_error: 0.9773 - mean_squared_error: 1.5692 - val_loss: 0.7221 - val_mean_absolute_error: 0.6930 - val_mean_squared_error: 0.7221\n",
      "Epoch 4/10\n",
      "16000/16000 [==============================] - 12s 758us/sample - loss: 1.3370 - mean_absolute_error: 0.9017 - mean_squared_error: 1.3370 - val_loss: 0.8250 - val_mean_absolute_error: 0.7393 - val_mean_squared_error: 0.8250\n",
      "Epoch 5/10\n",
      "16000/16000 [==============================] - 12s 776us/sample - loss: 1.2547 - mean_absolute_error: 0.8605 - mean_squared_error: 1.2547 - val_loss: 0.2551 - val_mean_absolute_error: 0.3664 - val_mean_squared_error: 0.2551\n",
      "Epoch 6/10\n",
      "16000/16000 [==============================] - 13s 811us/sample - loss: 1.1219 - mean_absolute_error: 0.8103 - mean_squared_error: 1.1219 - val_loss: 0.2253 - val_mean_absolute_error: 0.3414 - val_mean_squared_error: 0.2253\n",
      "Epoch 7/10\n",
      "16000/16000 [==============================] - 13s 813us/sample - loss: 1.1731 - mean_absolute_error: 0.7604 - mean_squared_error: 1.1731 - val_loss: 0.1885 - val_mean_absolute_error: 0.3236 - val_mean_squared_error: 0.1885\n",
      "Epoch 8/10\n",
      "16000/16000 [==============================] - 13s 825us/sample - loss: 0.8642 - mean_absolute_error: 0.7140 - mean_squared_error: 0.8642 - val_loss: 0.4563 - val_mean_absolute_error: 0.5816 - val_mean_squared_error: 0.4563\n",
      "Epoch 9/10\n",
      "16000/16000 [==============================] - 13s 807us/sample - loss: 0.7520 - mean_absolute_error: 0.6560 - mean_squared_error: 0.7520 - val_loss: 0.2435 - val_mean_absolute_error: 0.3863 - val_mean_squared_error: 0.2435\n",
      "Epoch 10/10\n",
      "16000/16000 [==============================] - 13s 811us/sample - loss: 0.6890 - mean_absolute_error: 0.6184 - mean_squared_error: 0.6890 - val_loss: 0.5042 - val_mean_absolute_error: 0.6206 - val_mean_squared_error: 0.5042\n"
     ]
    }
   ],
   "source": [
    "BAG=0\n",
    "print(mb3.k)\n",
    "mb3.setInputShape(input_shape)\n",
    "mb3.buildModel()\n",
    "mb3.fitModel(x=x_bag3[BAG], y=y_bag3[BAG], epochs=10, \n",
    "        validation_split = 0.2)"
   ]
  },
  {
   "cell_type": "code",
   "execution_count": 164,
   "metadata": {},
   "outputs": [
    {
     "name": "stdout",
     "output_type": "stream",
     "text": [
      "mean y      : 4.85\n",
      "mean abs err: 1.1\n",
      "mean sq err:  1.96\n"
     ]
    }
   ],
   "source": [
    "summaryStats(y2_bag_train[2])"
   ]
  },
  {
   "cell_type": "code",
   "execution_count": 166,
   "metadata": {},
   "outputs": [
    {
     "name": "stdout",
     "output_type": "stream",
     "text": [
      "mean y      : 4.81\n",
      "mean abs err: 1.11\n",
      "mean sq err:  1.96\n"
     ]
    }
   ],
   "source": [
    "summaryStats(y_bag3[0])"
   ]
  },
  {
   "cell_type": "code",
   "execution_count": 167,
   "metadata": {
    "collapsed": true
   },
   "outputs": [],
   "source": [
    "models = mb3.models.copy()\n",
    "history = mb3.history.copy()"
   ]
  },
  {
   "cell_type": "code",
   "execution_count": 169,
   "metadata": {},
   "outputs": [
    {
     "data": {
      "image/png": "[encoded data removed]",
      "text/plain": [
       "<Figure size 432x288 with 1 Axes>"
      ]
     },
     "metadata": {
      "needs_background": "light"
     },
     "output_type": "display_data"
    },
    {
     "data": {
      "image/png": "[encoded data removed]",
      "text/plain": [
       "<Figure size 432x288 with 1 Axes>"
      ]
     },
     "metadata": {
      "needs_background": "light"
     },
     "output_type": "display_data"
    }
   ],
   "source": [
    "#history plots\n",
    "for _hist in history.values():\n",
    "    mb3.plotHistory(_hist)"
   ]
  },
  {
   "cell_type": "code",
   "execution_count": null,
   "metadata": {
    "collapsed": true
   },
   "outputs": [],
   "source": [
    "#eval:"
   ]
  },
  {
   "cell_type": "code",
   "execution_count": 172,
   "metadata": {},
   "outputs": [
    {
     "data": {
      "text/plain": [
       "[0.9811619395256043, 0.84236133, 0.98116213]"
      ]
     },
     "execution_count": 172,
     "metadata": {},
     "output_type": "execute_result"
    }
   ],
   "source": [
    "mb3.eval(models['0'], x_test_norm, y_test_2)"
   ]
  },
  {
   "cell_type": "code",
   "execution_count": 174,
   "metadata": {},
   "outputs": [
    {
     "data": {
      "text/plain": [
       "[0.4931590620994568, 0.61368436, 0.4931591]"
      ]
     },
     "execution_count": 174,
     "metadata": {},
     "output_type": "execute_result"
    }
   ],
   "source": [
    "mb3.eval(models['1'], x_test_norm, y_test_2)"
   ]
  },
  {
   "cell_type": "code",
   "execution_count": 177,
   "metadata": {},
   "outputs": [
    {
     "data": {
      "image/png": "[encoded data removed]",
      "text/plain": [
       "<Figure size 432x288 with 1 Axes>"
      ]
     },
     "metadata": {
      "needs_background": "light"
     },
     "output_type": "display_data"
    }
   ],
   "source": [
    "#do actualsvs predicted\n",
    "MODEL='0'\n",
    "N=500\n",
    "predicted = models[MODEL].predict(x_test_norm[:N])\n",
    "truth = y_test_2[:N]\n",
    "mb3.plotPredVsActual(None, truth, predicted)"
   ]
  },
  {
   "cell_type": "code",
   "execution_count": 181,
   "metadata": {},
   "outputs": [
    {
     "data": {
      "image/png": "[encoded data removed]",
      "text/plain": [
       "<Figure size 432x288 with 1 Axes>"
      ]
     },
     "metadata": {
      "needs_background": "light"
     },
     "output_type": "display_data"
    },
    {
     "data": {
      "image/png": "[encoded data removed]",
      "text/plain": [
       "<Figure size 432x288 with 1 Axes>"
      ]
     },
     "metadata": {
      "needs_background": "light"
     },
     "output_type": "display_data"
    }
   ],
   "source": [
    "plt.hist(predicted)\n",
    "plt.show()\n",
    "plt.hist(truth, bins=9)\n",
    "plt.show()"
   ]
  },
  {
   "cell_type": "code",
   "execution_count": 185,
   "metadata": {},
   "outputs": [
    {
     "name": "stdout",
     "output_type": "stream",
     "text": [
      "mean y      : 4.8\n",
      "mean abs err: 1.01\n",
      "mean sq err:  1.66\n"
     ]
    }
   ],
   "source": [
    "summaryStats(truth)"
   ]
  },
  {
   "cell_type": "code",
   "execution_count": 183,
   "metadata": {},
   "outputs": [
    {
     "name": "stdout",
     "output_type": "stream",
     "text": [
      "mean y      : 3.99\n",
      "mean abs err: 0.84\n",
      "mean sq err:  1.16\n"
     ]
    }
   ],
   "source": [
    "summaryStats([x[0] for x in predicted])"
   ]
  },
  {
   "cell_type": "code",
   "execution_count": 186,
   "metadata": {},
   "outputs": [
    {
     "data": {
      "image/png": "[encoded data removed]",
      "text/plain": [
       "<Figure size 432x288 with 1 Axes>"
      ]
     },
     "metadata": {
      "needs_background": "light"
     },
     "output_type": "display_data"
    }
   ],
   "source": [
    "MODEL='1'\n",
    "N=500\n",
    "predicted = models[MODEL].predict(x_test_norm[:N])\n",
    "truth = y_test_2[:N]\n",
    "mb3.plotPredVsActual(None, truth, predicted)"
   ]
  },
  {
   "cell_type": "code",
   "execution_count": 191,
   "metadata": {
    "collapsed": true
   },
   "outputs": [],
   "source": [
    "mb4 = ModelBuilder()"
   ]
  },
  {
   "cell_type": "code",
   "execution_count": 192,
   "metadata": {
    "scrolled": false
   },
   "outputs": [
    {
     "name": "stdout",
     "output_type": "stream",
     "text": [
      "2 30000 30000\n",
      "2 30000 30000\n",
      "0\n",
      "Train on 48000 samples, validate on 12000 samples\n",
      "Epoch 1/10\n",
      "48000/48000 [==============================] - 38s 788us/sample - loss: 280.2073 - mean_absolute_error: 1.9936 - mean_squared_error: 280.2076 - val_loss: 0.9615 - val_mean_absolute_error: 0.8750 - val_mean_squared_error: 0.9615\n",
      "Epoch 2/10\n",
      "48000/48000 [==============================] - 39s 803us/sample - loss: 1.0280 - mean_absolute_error: 0.7858 - mean_squared_error: 1.0280 - val_loss: 0.2380 - val_mean_absolute_error: 0.3671 - val_mean_squared_error: 0.2380\n",
      "Epoch 3/10\n",
      "48000/48000 [==============================] - 39s 804us/sample - loss: 0.6835 - mean_absolute_error: 0.6359 - mean_squared_error: 0.6835 - val_loss: 0.1183 - val_mean_absolute_error: 0.2538 - val_mean_squared_error: 0.1183\n",
      "Epoch 4/10\n",
      "48000/48000 [==============================] - 42s 874us/sample - loss: 0.5219 - mean_absolute_error: 0.5343 - mean_squared_error: 0.5219 - val_loss: 0.0809 - val_mean_absolute_error: 0.1983 - val_mean_squared_error: 0.0809\n",
      "Epoch 5/10\n",
      "48000/48000 [==============================] - 41s 857us/sample - loss: 0.6875 - mean_absolute_error: 0.4789 - mean_squared_error: 0.6875 - val_loss: 0.0767 - val_mean_absolute_error: 0.1884 - val_mean_squared_error: 0.0767\n",
      "Epoch 6/10\n",
      "48000/48000 [==============================] - 40s 833us/sample - loss: 0.3573 - mean_absolute_error: 0.4261 - mean_squared_error: 0.3573 - val_loss: 0.1364 - val_mean_absolute_error: 0.3026 - val_mean_squared_error: 0.1364\n",
      "Epoch 7/10\n",
      "48000/48000 [==============================] - 39s 820us/sample - loss: 0.3219 - mean_absolute_error: 0.4071 - mean_squared_error: 0.3219 - val_loss: 0.0585 - val_mean_absolute_error: 0.1569 - val_mean_squared_error: 0.0585\n",
      "Epoch 8/10\n",
      "48000/48000 [==============================] - 39s 817us/sample - loss: 0.2763 - mean_absolute_error: 0.3815 - mean_squared_error: 0.2763 - val_loss: 0.1906 - val_mean_absolute_error: 0.3618 - val_mean_squared_error: 0.1906\n",
      "Epoch 9/10\n",
      "48000/48000 [==============================] - 40s 836us/sample - loss: 0.4595 - mean_absolute_error: 0.3686 - mean_squared_error: 0.4595 - val_loss: 0.0686 - val_mean_absolute_error: 0.1830 - val_mean_squared_error: 0.0686\n",
      "Epoch 10/10\n",
      "48000/48000 [==============================] - 39s 820us/sample - loss: 0.2223 - mean_absolute_error: 0.3390 - mean_squared_error: 0.2223 - val_loss: 0.1345 - val_mean_absolute_error: 0.2982 - val_mean_squared_error: 0.1345\n",
      "1\n",
      "Train on 48000 samples, validate on 12000 samples\n",
      "Epoch 1/50\n",
      "48000/48000 [==============================] - 41s 857us/sample - loss: 354.3778 - mean_absolute_error: 2.0254 - mean_squared_error: 354.3771 - val_loss: 0.7043 - val_mean_absolute_error: 0.6526 - val_mean_squared_error: 0.7043\n",
      "Epoch 2/50\n",
      "48000/48000 [==============================] - 42s 884us/sample - loss: 1.1393 - mean_absolute_error: 0.8153 - mean_squared_error: 1.1393 - val_loss: 0.2280 - val_mean_absolute_error: 0.3445 - val_mean_squared_error: 0.2280\n",
      "Epoch 3/50\n",
      "48000/48000 [==============================] - 42s 871us/sample - loss: 0.7540 - mean_absolute_error: 0.6655 - mean_squared_error: 0.7540 - val_loss: 0.2126 - val_mean_absolute_error: 0.3448 - val_mean_squared_error: 0.2126\n",
      "Epoch 4/50\n",
      "48000/48000 [==============================] - 47s 971us/sample - loss: 0.7190 - mean_absolute_error: 0.5606 - mean_squared_error: 0.7190 - val_loss: 0.1634 - val_mean_absolute_error: 0.3136 - val_mean_squared_error: 0.1634\n",
      "Epoch 5/50\n",
      "48000/48000 [==============================] - 42s 882us/sample - loss: 0.4152 - mean_absolute_error: 0.4807 - mean_squared_error: 0.4152 - val_loss: 0.0729 - val_mean_absolute_error: 0.1843 - val_mean_squared_error: 0.0729\n",
      "Epoch 6/50\n",
      "48000/48000 [==============================] - 42s 882us/sample - loss: 0.3341 - mean_absolute_error: 0.4282 - mean_squared_error: 0.3341 - val_loss: 0.1229 - val_mean_absolute_error: 0.2818 - val_mean_squared_error: 0.1229\n",
      "Epoch 7/50\n",
      "48000/48000 [==============================] - 43s 893us/sample - loss: 0.3756 - mean_absolute_error: 0.4197 - mean_squared_error: 0.3756 - val_loss: 0.3913 - val_mean_absolute_error: 0.5453 - val_mean_squared_error: 0.3913\n",
      "Epoch 8/50\n",
      "48000/48000 [==============================] - 45s 933us/sample - loss: 0.3152 - mean_absolute_error: 0.3849 - mean_squared_error: 0.3152 - val_loss: 0.0468 - val_mean_absolute_error: 0.1413 - val_mean_squared_error: 0.0468\n",
      "Epoch 9/50\n",
      "48000/48000 [==============================] - 42s 867us/sample - loss: 1.4414 - mean_absolute_error: 0.3846 - mean_squared_error: 1.4414 - val_loss: 0.0506 - val_mean_absolute_error: 0.1508 - val_mean_squared_error: 0.0506\n",
      "Epoch 10/50\n",
      "48000/48000 [==============================] - 35s 726us/sample - loss: 0.2475 - mean_absolute_error: 0.3453 - mean_squared_error: 0.2475 - val_loss: 0.1226 - val_mean_absolute_error: 0.2878 - val_mean_squared_error: 0.1226\n",
      "Epoch 11/50\n",
      "48000/48000 [==============================] - 37s 766us/sample - loss: 0.2177 - mean_absolute_error: 0.3293 - mean_squared_error: 0.2177 - val_loss: 0.0436 - val_mean_absolute_error: 0.1402 - val_mean_squared_error: 0.0436\n",
      "Epoch 12/50\n",
      "48000/48000 [==============================] - 44s 918us/sample - loss: 0.2926 - mean_absolute_error: 0.3228 - mean_squared_error: 0.2926 - val_loss: 0.0714 - val_mean_absolute_error: 0.1979 - val_mean_squared_error: 0.0714\n",
      "Epoch 13/50\n",
      "48000/48000 [==============================] - 41s 849us/sample - loss: 0.1966 - mean_absolute_error: 0.3079 - mean_squared_error: 0.1966 - val_loss: 0.0456 - val_mean_absolute_error: 0.1474 - val_mean_squared_error: 0.0456\n",
      "Epoch 14/50\n",
      "48000/48000 [==============================] - 40s 827us/sample - loss: 0.2059 - mean_absolute_error: 0.2982 - mean_squared_error: 0.2059 - val_loss: 0.0556 - val_mean_absolute_error: 0.1555 - val_mean_squared_error: 0.0556\n",
      "Epoch 15/50\n",
      "48000/48000 [==============================] - 40s 828us/sample - loss: 0.1615 - mean_absolute_error: 0.2856 - mean_squared_error: 0.1615 - val_loss: 0.0462 - val_mean_absolute_error: 0.1412 - val_mean_squared_error: 0.0462\n",
      "Epoch 16/50\n",
      "48000/48000 [==============================] - 40s 824us/sample - loss: 0.1527 - mean_absolute_error: 0.2756 - mean_squared_error: 0.1527 - val_loss: 0.0663 - val_mean_absolute_error: 0.1870 - val_mean_squared_error: 0.0663\n",
      "Epoch 17/50\n",
      "48000/48000 [==============================] - 40s 825us/sample - loss: 0.1942 - mean_absolute_error: 0.2691 - mean_squared_error: 0.1942 - val_loss: 0.0428 - val_mean_absolute_error: 0.1284 - val_mean_squared_error: 0.0428\n",
      "Epoch 18/50\n",
      "48000/48000 [==============================] - 40s 831us/sample - loss: 0.1424 - mean_absolute_error: 0.2606 - mean_squared_error: 0.1424 - val_loss: 0.0670 - val_mean_absolute_error: 0.1873 - val_mean_squared_error: 0.0670\n",
      "Epoch 19/50\n",
      "48000/48000 [==============================] - 39s 811us/sample - loss: 0.1458 - mean_absolute_error: 0.2524 - mean_squared_error: 0.1458 - val_loss: 0.0543 - val_mean_absolute_error: 0.1580 - val_mean_squared_error: 0.0543\n",
      "Epoch 20/50\n",
      "48000/48000 [==============================] - 39s 804us/sample - loss: 0.1348 - mean_absolute_error: 0.2440 - mean_squared_error: 0.1348 - val_loss: 0.0877 - val_mean_absolute_error: 0.2080 - val_mean_squared_error: 0.0877\n",
      "Epoch 21/50\n",
      "48000/48000 [==============================] - 38s 799us/sample - loss: 0.1344 - mean_absolute_error: 0.2415 - mean_squared_error: 0.1344 - val_loss: 0.0508 - val_mean_absolute_error: 0.1481 - val_mean_squared_error: 0.0508\n",
      "Epoch 22/50\n",
      "48000/48000 [==============================] - 38s 797us/sample - loss: 0.1332 - mean_absolute_error: 0.2414 - mean_squared_error: 0.1332 - val_loss: 0.0493 - val_mean_absolute_error: 0.1556 - val_mean_squared_error: 0.0493\n",
      "Epoch 23/50\n",
      "48000/48000 [==============================] - 39s 807us/sample - loss: 0.1298 - mean_absolute_error: 0.2406 - mean_squared_error: 0.1298 - val_loss: 0.0512 - val_mean_absolute_error: 0.1485 - val_mean_squared_error: 0.0512\n",
      "Epoch 24/50\n",
      "48000/48000 [==============================] - 38s 795us/sample - loss: 0.1262 - mean_absolute_error: 0.2376 - mean_squared_error: 0.1262 - val_loss: 0.0560 - val_mean_absolute_error: 0.1606 - val_mean_squared_error: 0.0560\n",
      "Epoch 25/50\n"
     ]
    },
    {
     "name": "stdout",
     "output_type": "stream",
     "text": [
      "48000/48000 [==============================] - 34s 718us/sample - loss: 0.1305 - mean_absolute_error: 0.2397 - mean_squared_error: 0.1305 - val_loss: 0.0540 - val_mean_absolute_error: 0.1601 - val_mean_squared_error: 0.0540\n",
      "Epoch 26/50\n",
      "48000/48000 [==============================] - 36s 750us/sample - loss: 0.1222 - mean_absolute_error: 0.2366 - mean_squared_error: 0.1222 - val_loss: 0.0717 - val_mean_absolute_error: 0.1626 - val_mean_squared_error: 0.0717\n",
      "Epoch 27/50\n",
      "48000/48000 [==============================] - 3296s 69ms/sample - loss: 0.1221 - mean_absolute_error: 0.2360 - mean_squared_error: 0.1221 - val_loss: 0.0434 - val_mean_absolute_error: 0.1297 - val_mean_squared_error: 0.0434\n",
      "Epoch 28/50\n",
      "48000/48000 [==============================] - 35s 726us/sample - loss: 0.1198 - mean_absolute_error: 0.2353 - mean_squared_error: 0.1198 - val_loss: 0.0803 - val_mean_absolute_error: 0.2115 - val_mean_squared_error: 0.0803\n",
      "Epoch 29/50\n",
      "48000/48000 [==============================] - 35s 724us/sample - loss: 0.1269 - mean_absolute_error: 0.2367 - mean_squared_error: 0.1269 - val_loss: 0.0370 - val_mean_absolute_error: 0.1212 - val_mean_squared_error: 0.0370\n",
      "Epoch 30/50\n",
      "48000/48000 [==============================] - 35s 721us/sample - loss: 0.1219 - mean_absolute_error: 0.2370 - mean_squared_error: 0.1219 - val_loss: 0.0436 - val_mean_absolute_error: 0.1367 - val_mean_squared_error: 0.0436\n",
      "Epoch 31/50\n",
      "48000/48000 [==============================] - 38s 797us/sample - loss: 0.1203 - mean_absolute_error: 0.2357 - mean_squared_error: 0.1203 - val_loss: 0.1137 - val_mean_absolute_error: 0.2504 - val_mean_squared_error: 0.1137\n",
      "Epoch 32/50\n",
      "48000/48000 [==============================] - 43s 893us/sample - loss: 0.1236 - mean_absolute_error: 0.2354 - mean_squared_error: 0.1236 - val_loss: 0.0554 - val_mean_absolute_error: 0.1526 - val_mean_squared_error: 0.0554\n",
      "Epoch 33/50\n",
      "48000/48000 [==============================] - 43s 886us/sample - loss: 0.1182 - mean_absolute_error: 0.2347 - mean_squared_error: 0.1182 - val_loss: 0.0828 - val_mean_absolute_error: 0.2134 - val_mean_squared_error: 0.0828\n",
      "Epoch 34/50\n",
      "47936/48000 [============================>.] - ETA: 0s - loss: 0.1185 - mean_absolute_error: 0.2348 - mean_squared_error: 0.1185"
     ]
    },
    {
     "ename": "KeyboardInterrupt",
     "evalue": "",
     "output_type": "error",
     "traceback": [
      "\u001b[1;31m---------------------------------------------------------------------------\u001b[0m",
      "\u001b[1;31mKeyboardInterrupt\u001b[0m                         Traceback (most recent call last)",
      "\u001b[1;32m<ipython-input-192-f5ae6abfe719>\u001b[0m in \u001b[0;36m<module>\u001b[1;34m\u001b[0m\n\u001b[0;32m     15\u001b[0m \u001b[0mmb4\u001b[0m\u001b[1;33m.\u001b[0m\u001b[0mbuildModel\u001b[0m\u001b[1;33m(\u001b[0m\u001b[1;33m)\u001b[0m\u001b[1;33m\u001b[0m\u001b[1;33m\u001b[0m\u001b[0m\n\u001b[0;32m     16\u001b[0m mb4.fitModel(x=x_train_norm, y=y_train_2, epochs=50, \n\u001b[1;32m---> 17\u001b[1;33m         validation_split = 0.2)\n\u001b[0m\u001b[0;32m     18\u001b[0m \u001b[1;33m\u001b[0m\u001b[0m\n\u001b[0;32m     19\u001b[0m \u001b[0mprint\u001b[0m\u001b[1;33m(\u001b[0m\u001b[0mmb4\u001b[0m\u001b[1;33m.\u001b[0m\u001b[0mk\u001b[0m\u001b[1;33m)\u001b[0m\u001b[1;33m\u001b[0m\u001b[1;33m\u001b[0m\u001b[0m\n",
      "\u001b[1;32m~\\Desktop\\alphaPilot\\models\\model.py\u001b[0m in \u001b[0;36mfitModel\u001b[1;34m(self, x, y, epochs, validation_split, k)\u001b[0m\n\u001b[0;32m     77\u001b[0m \u001b[1;33m\u001b[0m\u001b[0m\n\u001b[0;32m     78\u001b[0m         _history = _model.fit(x=x, y=y, epochs=epochs,\n\u001b[1;32m---> 79\u001b[1;33m                               \u001b[0mvalidation_split\u001b[0m \u001b[1;33m=\u001b[0m \u001b[0mvalidation_split\u001b[0m\u001b[1;33m\u001b[0m\u001b[1;33m\u001b[0m\u001b[0m\n\u001b[0m\u001b[0;32m     80\u001b[0m                               )\n\u001b[0;32m     81\u001b[0m \u001b[1;33m\u001b[0m\u001b[0m\n",
      "\u001b[1;32m~\\AppData\\Roaming\\Python\\Python37\\site-packages\\tensorflow\\python\\keras\\engine\\training.py\u001b[0m in \u001b[0;36mfit\u001b[1;34m(self, x, y, batch_size, epochs, verbose, callbacks, validation_split, validation_data, shuffle, class_weight, sample_weight, initial_epoch, steps_per_epoch, validation_steps, max_queue_size, workers, use_multiprocessing, **kwargs)\u001b[0m\n\u001b[0;32m    878\u001b[0m           \u001b[0minitial_epoch\u001b[0m\u001b[1;33m=\u001b[0m\u001b[0minitial_epoch\u001b[0m\u001b[1;33m,\u001b[0m\u001b[1;33m\u001b[0m\u001b[1;33m\u001b[0m\u001b[0m\n\u001b[0;32m    879\u001b[0m           \u001b[0msteps_per_epoch\u001b[0m\u001b[1;33m=\u001b[0m\u001b[0msteps_per_epoch\u001b[0m\u001b[1;33m,\u001b[0m\u001b[1;33m\u001b[0m\u001b[1;33m\u001b[0m\u001b[0m\n\u001b[1;32m--> 880\u001b[1;33m           validation_steps=validation_steps)\n\u001b[0m\u001b[0;32m    881\u001b[0m \u001b[1;33m\u001b[0m\u001b[0m\n\u001b[0;32m    882\u001b[0m   def evaluate(self,\n",
      "\u001b[1;32m~\\AppData\\Roaming\\Python\\Python37\\site-packages\\tensorflow\\python\\keras\\engine\\training_arrays.py\u001b[0m in \u001b[0;36mmodel_iteration\u001b[1;34m(model, inputs, targets, sample_weights, batch_size, epochs, verbose, callbacks, val_inputs, val_targets, val_sample_weights, shuffle, initial_epoch, steps_per_epoch, validation_steps, mode, validation_in_fit, **kwargs)\u001b[0m\n\u001b[0;32m    362\u001b[0m           \u001b[0mverbose\u001b[0m\u001b[1;33m=\u001b[0m\u001b[1;36m0\u001b[0m\u001b[1;33m,\u001b[0m\u001b[1;33m\u001b[0m\u001b[1;33m\u001b[0m\u001b[0m\n\u001b[0;32m    363\u001b[0m           \u001b[0mmode\u001b[0m\u001b[1;33m=\u001b[0m\u001b[1;34m'test'\u001b[0m\u001b[1;33m,\u001b[0m\u001b[1;33m\u001b[0m\u001b[1;33m\u001b[0m\u001b[0m\n\u001b[1;32m--> 364\u001b[1;33m           validation_in_fit=True)\n\u001b[0m\u001b[0;32m    365\u001b[0m       \u001b[1;32mif\u001b[0m \u001b[1;32mnot\u001b[0m \u001b[0misinstance\u001b[0m\u001b[1;33m(\u001b[0m\u001b[0mval_results\u001b[0m\u001b[1;33m,\u001b[0m \u001b[0mlist\u001b[0m\u001b[1;33m)\u001b[0m\u001b[1;33m:\u001b[0m\u001b[1;33m\u001b[0m\u001b[1;33m\u001b[0m\u001b[0m\n\u001b[0;32m    366\u001b[0m         \u001b[0mval_results\u001b[0m \u001b[1;33m=\u001b[0m \u001b[1;33m[\u001b[0m\u001b[0mval_results\u001b[0m\u001b[1;33m]\u001b[0m\u001b[1;33m\u001b[0m\u001b[1;33m\u001b[0m\u001b[0m\n",
      "\u001b[1;32m~\\AppData\\Roaming\\Python\\Python37\\site-packages\\tensorflow\\python\\keras\\engine\\training_arrays.py\u001b[0m in \u001b[0;36mmodel_iteration\u001b[1;34m(model, inputs, targets, sample_weights, batch_size, epochs, verbose, callbacks, val_inputs, val_targets, val_sample_weights, shuffle, initial_epoch, steps_per_epoch, validation_steps, mode, validation_in_fit, **kwargs)\u001b[0m\n\u001b[0;32m    327\u001b[0m \u001b[1;33m\u001b[0m\u001b[0m\n\u001b[0;32m    328\u001b[0m         \u001b[1;31m# Get outputs.\u001b[0m\u001b[1;33m\u001b[0m\u001b[1;33m\u001b[0m\u001b[1;33m\u001b[0m\u001b[0m\n\u001b[1;32m--> 329\u001b[1;33m         \u001b[0mbatch_outs\u001b[0m \u001b[1;33m=\u001b[0m \u001b[0mf\u001b[0m\u001b[1;33m(\u001b[0m\u001b[0mins_batch\u001b[0m\u001b[1;33m)\u001b[0m\u001b[1;33m\u001b[0m\u001b[1;33m\u001b[0m\u001b[0m\n\u001b[0m\u001b[0;32m    330\u001b[0m         \u001b[1;32mif\u001b[0m \u001b[1;32mnot\u001b[0m \u001b[0misinstance\u001b[0m\u001b[1;33m(\u001b[0m\u001b[0mbatch_outs\u001b[0m\u001b[1;33m,\u001b[0m \u001b[0mlist\u001b[0m\u001b[1;33m)\u001b[0m\u001b[1;33m:\u001b[0m\u001b[1;33m\u001b[0m\u001b[1;33m\u001b[0m\u001b[0m\n\u001b[0;32m    331\u001b[0m           \u001b[0mbatch_outs\u001b[0m \u001b[1;33m=\u001b[0m \u001b[1;33m[\u001b[0m\u001b[0mbatch_outs\u001b[0m\u001b[1;33m]\u001b[0m\u001b[1;33m\u001b[0m\u001b[1;33m\u001b[0m\u001b[0m\n",
      "\u001b[1;32m~\\AppData\\Roaming\\Python\\Python37\\site-packages\\tensorflow\\python\\keras\\backend.py\u001b[0m in \u001b[0;36m__call__\u001b[1;34m(self, inputs)\u001b[0m\n\u001b[0;32m   3074\u001b[0m \u001b[1;33m\u001b[0m\u001b[0m\n\u001b[0;32m   3075\u001b[0m     fetched = self._callable_fn(*array_vals,\n\u001b[1;32m-> 3076\u001b[1;33m                                 run_metadata=self.run_metadata)\n\u001b[0m\u001b[0;32m   3077\u001b[0m     \u001b[0mself\u001b[0m\u001b[1;33m.\u001b[0m\u001b[0m_call_fetch_callbacks\u001b[0m\u001b[1;33m(\u001b[0m\u001b[0mfetched\u001b[0m\u001b[1;33m[\u001b[0m\u001b[1;33m-\u001b[0m\u001b[0mlen\u001b[0m\u001b[1;33m(\u001b[0m\u001b[0mself\u001b[0m\u001b[1;33m.\u001b[0m\u001b[0m_fetches\u001b[0m\u001b[1;33m)\u001b[0m\u001b[1;33m:\u001b[0m\u001b[1;33m]\u001b[0m\u001b[1;33m)\u001b[0m\u001b[1;33m\u001b[0m\u001b[1;33m\u001b[0m\u001b[0m\n\u001b[0;32m   3078\u001b[0m     return nest.pack_sequence_as(self._outputs_structure,\n",
      "\u001b[1;32m~\\AppData\\Roaming\\Python\\Python37\\site-packages\\tensorflow\\python\\client\\session.py\u001b[0m in \u001b[0;36m__call__\u001b[1;34m(self, *args, **kwargs)\u001b[0m\n\u001b[0;32m   1437\u001b[0m           ret = tf_session.TF_SessionRunCallable(\n\u001b[0;32m   1438\u001b[0m               \u001b[0mself\u001b[0m\u001b[1;33m.\u001b[0m\u001b[0m_session\u001b[0m\u001b[1;33m.\u001b[0m\u001b[0m_session\u001b[0m\u001b[1;33m,\u001b[0m \u001b[0mself\u001b[0m\u001b[1;33m.\u001b[0m\u001b[0m_handle\u001b[0m\u001b[1;33m,\u001b[0m \u001b[0margs\u001b[0m\u001b[1;33m,\u001b[0m \u001b[0mstatus\u001b[0m\u001b[1;33m,\u001b[0m\u001b[1;33m\u001b[0m\u001b[1;33m\u001b[0m\u001b[0m\n\u001b[1;32m-> 1439\u001b[1;33m               run_metadata_ptr)\n\u001b[0m\u001b[0;32m   1440\u001b[0m         \u001b[1;32mif\u001b[0m \u001b[0mrun_metadata\u001b[0m\u001b[1;33m:\u001b[0m\u001b[1;33m\u001b[0m\u001b[1;33m\u001b[0m\u001b[0m\n\u001b[0;32m   1441\u001b[0m           \u001b[0mproto_data\u001b[0m \u001b[1;33m=\u001b[0m \u001b[0mtf_session\u001b[0m\u001b[1;33m.\u001b[0m\u001b[0mTF_GetBuffer\u001b[0m\u001b[1;33m(\u001b[0m\u001b[0mrun_metadata_ptr\u001b[0m\u001b[1;33m)\u001b[0m\u001b[1;33m\u001b[0m\u001b[1;33m\u001b[0m\u001b[0m\n",
      "\u001b[1;31mKeyboardInterrupt\u001b[0m: "
     ]
    }
   ],
   "source": [
    "x_bag2 = bagData(x_train_norm, N=2)\n",
    "y_bag2 = bagData(y_train_2, N=2)\n",
    "# x_bag1 = bagData(x_train_norm, N=1)\n",
    "# y_bag1 = bagData(y_train_2, N=1)\n",
    "BAG=0\n",
    "\n",
    "mb4.setInputShape(input_shape)\n",
    "\n",
    "print(mb4.k)\n",
    "mb4.buildModel()\n",
    "mb4.fitModel(x=x_train_norm, y=y_train_2, epochs=10, \n",
    "        validation_split = 0.2)\n",
    "\n",
    "print(mb4.k)\n",
    "mb4.buildModel()\n",
    "mb4.fitModel(x=x_train_norm, y=y_train_2, epochs=50, \n",
    "        validation_split = 0.2)\n",
    "\n",
    "print(mb4.k)\n",
    "mb4.buildModel()\n",
    "mb4.fitModel(x=x_bag2[BAG], y=y_bag2[BAG], epochs=10, \n",
    "        validation_split = 0.2)\n",
    "\n",
    "print(mb4.k)\n",
    "mb4.buildModel()\n",
    "mb4.fitModel(x=x_bag2[BAG], y=y_bag2[BAG], epochs=50, \n",
    "        validation_split = 0.2)\n"
   ]
  },
  {
   "cell_type": "code",
   "execution_count": 193,
   "metadata": {
    "collapsed": true
   },
   "outputs": [],
   "source": [
    "models4 = mb4.models.copy()\n"
   ]
  },
  {
   "cell_type": "code",
   "execution_count": 194,
   "metadata": {},
   "outputs": [
    {
     "data": {
      "text/plain": [
       "dict_keys(['0', '1'])"
      ]
     },
     "execution_count": 194,
     "metadata": {},
     "output_type": "execute_result"
    }
   ],
   "source": [
    "models4.keys()"
   ]
  },
  {
   "cell_type": "code",
   "execution_count": 195,
   "metadata": {
    "collapsed": true
   },
   "outputs": [],
   "source": [
    "adv_model = models4['1']"
   ]
  },
  {
   "cell_type": "code",
   "execution_count": 204,
   "metadata": {
    "collapsed": true
   },
   "outputs": [],
   "source": [
    "basic_model = models['0']"
   ]
  },
  {
   "cell_type": "code",
   "execution_count": 208,
   "metadata": {},
   "outputs": [
    {
     "name": "stdout",
     "output_type": "stream",
     "text": [
      "--train----- \n",
      " [0.9679938070933024, 0.8344772, 0.96799505] \n",
      " [0.06281089935998121, 0.16024902, 0.06281089] \n",
      " ---test----- \n",
      " [0.9811619395256043, 0.84236133, 0.98116213] \n",
      " [0.06496722619831562, 0.16013144, 0.06496722]\n"
     ]
    }
   ],
   "source": [
    "# training\n",
    "print(\n",
    "'--train-----', '\\n',\n",
    "mb4.eval(basic_model, x_train_norm, y_train_2), '\\n',\n",
    "mb4.eval(adv_model, x_train_norm, y_train_2), '\\n',\n",
    "'---test-----', '\\n',\n",
    "mb4.eval(basic_model, x_test_norm, y_test_2), '\\n',\n",
    "mb4.eval(adv_model, x_test_norm, y_test_2)\n",
    ")"
   ]
  },
  {
   "cell_type": "code",
   "execution_count": 210,
   "metadata": {},
   "outputs": [
    {
     "data": {
      "image/png": "[encoded data removed]",
      "text/plain": [
       "<Figure size 432x288 with 1 Axes>"
      ]
     },
     "metadata": {
      "needs_background": "light"
     },
     "output_type": "display_data"
    }
   ],
   "source": [
    "N=500\n",
    "mod = basic_model\n",
    "truth = y_test_2[:N]\n",
    "predicted = mod.predict(x_test_norm[:N])\n",
    "predicted = [x[0] for x in predicted]\n",
    "mb4.plotPredVsActual(None, truth, predicted)"
   ]
  },
  {
   "cell_type": "code",
   "execution_count": 209,
   "metadata": {},
   "outputs": [
    {
     "data": {
      "image/png": "[encoded data removed]",
      "text/plain": [
       "<Figure size 432x288 with 1 Axes>"
      ]
     },
     "metadata": {
      "needs_background": "light"
     },
     "output_type": "display_data"
    }
   ],
   "source": [
    "N=500\n",
    "mod = adv_model\n",
    "truth = y_test_2[:N]\n",
    "predicted = mod.predict(x_test_norm[:N])\n",
    "predicted = [x[0] for x in predicted]\n",
    "mb4.plotPredVsActual(None, truth, predicted)"
   ]
  },
  {
   "cell_type": "code",
   "execution_count": null,
   "metadata": {
    "collapsed": true
   },
   "outputs": [],
   "source": [
    "history4 = mb4.history.copy()"
   ]
  },
  {
   "cell_type": "code",
   "execution_count": 211,
   "metadata": {},
   "outputs": [
    {
     "data": {
      "image/png": "[encoded data removed]",
      "text/plain": [
       "<Figure size 432x288 with 1 Axes>"
      ]
     },
     "metadata": {
      "needs_background": "light"
     },
     "output_type": "display_data"
    },
    {
     "data": {
      "image/png": "[encoded data removed]",
      "text/plain": [
       "<Figure size 432x288 with 1 Axes>"
      ]
     },
     "metadata": {
      "needs_background": "light"
     },
     "output_type": "display_data"
    }
   ],
   "source": [
    "for _hist in history.values():\n",
    "    mb4.plotHistory(_hist)"
   ]
  },
  {
   "cell_type": "code",
   "execution_count": 212,
   "metadata": {
    "collapsed": true
   },
   "outputs": [],
   "source": [
    "hist_list = list(history.values())"
   ]
  },
  {
   "cell_type": "code",
   "execution_count": 213,
   "metadata": {
    "collapsed": true
   },
   "outputs": [],
   "source": [
    "hist0 = hist_list[0]"
   ]
  },
  {
   "cell_type": "code",
   "execution_count": 215,
   "metadata": {},
   "outputs": [
    {
     "data": {
      "text/html": [
       "<div>\n",
       "<style scoped>\n",
       "    .dataframe tbody tr th:only-of-type {\n",
       "        vertical-align: middle;\n",
       "    }\n",
       "\n",
       "    .dataframe tbody tr th {\n",
       "        vertical-align: top;\n",
       "    }\n",
       "\n",
       "    .dataframe thead th {\n",
       "        text-align: right;\n",
       "    }\n",
       "</style>\n",
       "<table border=\"1\" class=\"dataframe\">\n",
       "  <thead>\n",
       "    <tr style=\"text-align: right;\">\n",
       "      <th></th>\n",
       "      <th>loss</th>\n",
       "      <th>mean_absolute_error</th>\n",
       "      <th>mean_squared_error</th>\n",
       "      <th>val_loss</th>\n",
       "      <th>val_mean_absolute_error</th>\n",
       "      <th>val_mean_squared_error</th>\n",
       "    </tr>\n",
       "  </thead>\n",
       "  <tbody>\n",
       "    <tr>\n",
       "      <th>0</th>\n",
       "      <td>3832.214706</td>\n",
       "      <td>9.647273</td>\n",
       "      <td>3832.213867</td>\n",
       "      <td>2.387397</td>\n",
       "      <td>1.306417</td>\n",
       "      <td>2.387398</td>\n",
       "    </tr>\n",
       "    <tr>\n",
       "      <th>1</th>\n",
       "      <td>4.253547</td>\n",
       "      <td>1.555969</td>\n",
       "      <td>4.253547</td>\n",
       "      <td>1.094951</td>\n",
       "      <td>0.854919</td>\n",
       "      <td>1.094951</td>\n",
       "    </tr>\n",
       "    <tr>\n",
       "      <th>2</th>\n",
       "      <td>3.087347</td>\n",
       "      <td>1.367779</td>\n",
       "      <td>3.087348</td>\n",
       "      <td>0.630101</td>\n",
       "      <td>0.601812</td>\n",
       "      <td>0.630101</td>\n",
       "    </tr>\n",
       "    <tr>\n",
       "      <th>3</th>\n",
       "      <td>2.330873</td>\n",
       "      <td>1.181908</td>\n",
       "      <td>2.330872</td>\n",
       "      <td>0.545124</td>\n",
       "      <td>0.546722</td>\n",
       "      <td>0.545124</td>\n",
       "    </tr>\n",
       "    <tr>\n",
       "      <th>4</th>\n",
       "      <td>1.976628</td>\n",
       "      <td>1.097969</td>\n",
       "      <td>1.976627</td>\n",
       "      <td>1.235983</td>\n",
       "      <td>0.961210</td>\n",
       "      <td>1.235983</td>\n",
       "    </tr>\n",
       "    <tr>\n",
       "      <th>5</th>\n",
       "      <td>1.768159</td>\n",
       "      <td>1.042691</td>\n",
       "      <td>1.768159</td>\n",
       "      <td>0.784334</td>\n",
       "      <td>0.710511</td>\n",
       "      <td>0.784334</td>\n",
       "    </tr>\n",
       "    <tr>\n",
       "      <th>6</th>\n",
       "      <td>1.539363</td>\n",
       "      <td>0.945572</td>\n",
       "      <td>1.539363</td>\n",
       "      <td>0.413437</td>\n",
       "      <td>0.483545</td>\n",
       "      <td>0.413437</td>\n",
       "    </tr>\n",
       "    <tr>\n",
       "      <th>7</th>\n",
       "      <td>1.505212</td>\n",
       "      <td>0.961196</td>\n",
       "      <td>1.505213</td>\n",
       "      <td>0.501270</td>\n",
       "      <td>0.501311</td>\n",
       "      <td>0.501270</td>\n",
       "    </tr>\n",
       "    <tr>\n",
       "      <th>8</th>\n",
       "      <td>1.382120</td>\n",
       "      <td>0.920027</td>\n",
       "      <td>1.382121</td>\n",
       "      <td>0.816657</td>\n",
       "      <td>0.739139</td>\n",
       "      <td>0.816657</td>\n",
       "    </tr>\n",
       "    <tr>\n",
       "      <th>9</th>\n",
       "      <td>1.270683</td>\n",
       "      <td>0.883676</td>\n",
       "      <td>1.270683</td>\n",
       "      <td>1.098496</td>\n",
       "      <td>0.882444</td>\n",
       "      <td>1.098496</td>\n",
       "    </tr>\n",
       "  </tbody>\n",
       "</table>\n",
       "</div>"
      ],
      "text/plain": [
       "          loss  mean_absolute_error  mean_squared_error  val_loss  \\\n",
       "0  3832.214706             9.647273         3832.213867  2.387397   \n",
       "1     4.253547             1.555969            4.253547  1.094951   \n",
       "2     3.087347             1.367779            3.087348  0.630101   \n",
       "3     2.330873             1.181908            2.330872  0.545124   \n",
       "4     1.976628             1.097969            1.976627  1.235983   \n",
       "5     1.768159             1.042691            1.768159  0.784334   \n",
       "6     1.539363             0.945572            1.539363  0.413437   \n",
       "7     1.505212             0.961196            1.505213  0.501270   \n",
       "8     1.382120             0.920027            1.382121  0.816657   \n",
       "9     1.270683             0.883676            1.270683  1.098496   \n",
       "\n",
       "   val_mean_absolute_error  val_mean_squared_error  \n",
       "0                 1.306417                2.387398  \n",
       "1                 0.854919                1.094951  \n",
       "2                 0.601812                0.630101  \n",
       "3                 0.546722                0.545124  \n",
       "4                 0.961210                1.235983  \n",
       "5                 0.710511                0.784334  \n",
       "6                 0.483545                0.413437  \n",
       "7                 0.501311                0.501270  \n",
       "8                 0.739139                0.816657  \n",
       "9                 0.882444                1.098496  "
      ]
     },
     "execution_count": 215,
     "metadata": {},
     "output_type": "execute_result"
    }
   ],
   "source": [
    "pd.DataFrame(hist0.history)"
   ]
  },
  {
   "cell_type": "code",
   "execution_count": 216,
   "metadata": {},
   "outputs": [
    {
     "data": {
      "text/html": [
       "<div>\n",
       "<style scoped>\n",
       "    .dataframe tbody tr th:only-of-type {\n",
       "        vertical-align: middle;\n",
       "    }\n",
       "\n",
       "    .dataframe tbody tr th {\n",
       "        vertical-align: top;\n",
       "    }\n",
       "\n",
       "    .dataframe thead th {\n",
       "        text-align: right;\n",
       "    }\n",
       "</style>\n",
       "<table border=\"1\" class=\"dataframe\">\n",
       "  <thead>\n",
       "    <tr style=\"text-align: right;\">\n",
       "      <th></th>\n",
       "      <th>loss</th>\n",
       "      <th>mean_absolute_error</th>\n",
       "      <th>mean_squared_error</th>\n",
       "      <th>val_loss</th>\n",
       "      <th>val_mean_absolute_error</th>\n",
       "      <th>val_mean_squared_error</th>\n",
       "    </tr>\n",
       "  </thead>\n",
       "  <tbody>\n",
       "    <tr>\n",
       "      <th>0</th>\n",
       "      <td>1971.289234</td>\n",
       "      <td>5.252799</td>\n",
       "      <td>1971.288818</td>\n",
       "      <td>0.509307</td>\n",
       "      <td>0.521601</td>\n",
       "      <td>0.509307</td>\n",
       "    </tr>\n",
       "    <tr>\n",
       "      <th>1</th>\n",
       "      <td>2.117728</td>\n",
       "      <td>1.140291</td>\n",
       "      <td>2.117729</td>\n",
       "      <td>0.638934</td>\n",
       "      <td>0.616086</td>\n",
       "      <td>0.638934</td>\n",
       "    </tr>\n",
       "    <tr>\n",
       "      <th>2</th>\n",
       "      <td>1.569230</td>\n",
       "      <td>0.977310</td>\n",
       "      <td>1.569231</td>\n",
       "      <td>0.722065</td>\n",
       "      <td>0.693002</td>\n",
       "      <td>0.722065</td>\n",
       "    </tr>\n",
       "    <tr>\n",
       "      <th>3</th>\n",
       "      <td>1.336968</td>\n",
       "      <td>0.901729</td>\n",
       "      <td>1.336967</td>\n",
       "      <td>0.824981</td>\n",
       "      <td>0.739348</td>\n",
       "      <td>0.824981</td>\n",
       "    </tr>\n",
       "    <tr>\n",
       "      <th>4</th>\n",
       "      <td>1.254712</td>\n",
       "      <td>0.860532</td>\n",
       "      <td>1.254711</td>\n",
       "      <td>0.255094</td>\n",
       "      <td>0.366353</td>\n",
       "      <td>0.255094</td>\n",
       "    </tr>\n",
       "    <tr>\n",
       "      <th>5</th>\n",
       "      <td>1.121932</td>\n",
       "      <td>0.810294</td>\n",
       "      <td>1.121932</td>\n",
       "      <td>0.225281</td>\n",
       "      <td>0.341383</td>\n",
       "      <td>0.225281</td>\n",
       "    </tr>\n",
       "    <tr>\n",
       "      <th>6</th>\n",
       "      <td>1.173124</td>\n",
       "      <td>0.760388</td>\n",
       "      <td>1.173125</td>\n",
       "      <td>0.188458</td>\n",
       "      <td>0.323551</td>\n",
       "      <td>0.188458</td>\n",
       "    </tr>\n",
       "    <tr>\n",
       "      <th>7</th>\n",
       "      <td>0.864224</td>\n",
       "      <td>0.714012</td>\n",
       "      <td>0.864225</td>\n",
       "      <td>0.456263</td>\n",
       "      <td>0.581648</td>\n",
       "      <td>0.456263</td>\n",
       "    </tr>\n",
       "    <tr>\n",
       "      <th>8</th>\n",
       "      <td>0.751972</td>\n",
       "      <td>0.656016</td>\n",
       "      <td>0.751972</td>\n",
       "      <td>0.243467</td>\n",
       "      <td>0.386276</td>\n",
       "      <td>0.243467</td>\n",
       "    </tr>\n",
       "    <tr>\n",
       "      <th>9</th>\n",
       "      <td>0.689049</td>\n",
       "      <td>0.618417</td>\n",
       "      <td>0.689049</td>\n",
       "      <td>0.504182</td>\n",
       "      <td>0.620642</td>\n",
       "      <td>0.504182</td>\n",
       "    </tr>\n",
       "  </tbody>\n",
       "</table>\n",
       "</div>"
      ],
      "text/plain": [
       "          loss  mean_absolute_error  mean_squared_error  val_loss  \\\n",
       "0  1971.289234             5.252799         1971.288818  0.509307   \n",
       "1     2.117728             1.140291            2.117729  0.638934   \n",
       "2     1.569230             0.977310            1.569231  0.722065   \n",
       "3     1.336968             0.901729            1.336967  0.824981   \n",
       "4     1.254712             0.860532            1.254711  0.255094   \n",
       "5     1.121932             0.810294            1.121932  0.225281   \n",
       "6     1.173124             0.760388            1.173125  0.188458   \n",
       "7     0.864224             0.714012            0.864225  0.456263   \n",
       "8     0.751972             0.656016            0.751972  0.243467   \n",
       "9     0.689049             0.618417            0.689049  0.504182   \n",
       "\n",
       "   val_mean_absolute_error  val_mean_squared_error  \n",
       "0                 0.521601                0.509307  \n",
       "1                 0.616086                0.638934  \n",
       "2                 0.693002                0.722065  \n",
       "3                 0.739348                0.824981  \n",
       "4                 0.366353                0.255094  \n",
       "5                 0.341383                0.225281  \n",
       "6                 0.323551                0.188458  \n",
       "7                 0.581648                0.456263  \n",
       "8                 0.386276                0.243467  \n",
       "9                 0.620642                0.504182  "
      ]
     },
     "execution_count": 216,
     "metadata": {},
     "output_type": "execute_result"
    }
   ],
   "source": [
    "hist1 = hist_list[1]\n",
    "pd.DataFrame(hist1.history)"
   ]
  },
  {
   "cell_type": "code",
   "execution_count": 217,
   "metadata": {},
   "outputs": [
    {
     "data": {
      "text/plain": [
       "[0, 1, 2, 3, 4, 5, 6, 7, 8, 9]"
      ]
     },
     "execution_count": 217,
     "metadata": {},
     "output_type": "execute_result"
    }
   ],
   "source": [
    "hist1.epoch"
   ]
  },
  {
   "cell_type": "code",
   "execution_count": null,
   "metadata": {},
   "outputs": [
    {
     "name": "stdout",
     "output_type": "stream",
     "text": [
      "3\n",
      "Train on 4800 samples, validate on 1200 samples\n",
      "Epoch 1/30\n",
      "4800/4800 [==============================] - 5s 942us/sample - loss: 3911.8791 - mean_absolute_error: 10.4626 - mean_squared_error: 3911.8799 - val_loss: 2.1672 - val_mean_absolute_error: 0.9788 - val_mean_squared_error: 2.1672\n",
      "Epoch 2/30\n",
      "4160/4800 [=========================>....] - ETA: 0s - loss: 3.7813 - mean_absolute_error: 1.4939 - mean_squared_error: 3.7813"
     ]
    }
   ],
   "source": [
    "BAG = 6\n",
    "print(mb4.k)\n",
    "mb4.buildModel()\n",
    "mb4.fitModel(x=x_bag_train[BAG], y=y2_bag_train[BAG], epochs=30, \n",
    "        validation_split = 0.2)"
   ]
  },
  {
   "cell_type": "code",
   "execution_count": null,
   "metadata": {
    "collapsed": true
   },
   "outputs": [],
   "source": []
  },
  {
   "cell_type": "code",
   "execution_count": null,
   "metadata": {
    "collapsed": true
   },
   "outputs": [],
   "source": []
  },
  {
   "cell_type": "code",
   "execution_count": null,
   "metadata": {
    "collapsed": true
   },
   "outputs": [],
   "source": []
  },
  {
   "cell_type": "code",
   "execution_count": null,
   "metadata": {
    "collapsed": true
   },
   "outputs": [],
   "source": []
  },
  {
   "cell_type": "code",
   "execution_count": null,
   "metadata": {
    "collapsed": true
   },
   "outputs": [],
   "source": []
  },
  {
   "cell_type": "code",
   "execution_count": null,
   "metadata": {
    "collapsed": true
   },
   "outputs": [],
   "source": []
  },
  {
   "cell_type": "code",
   "execution_count": null,
   "metadata": {
    "collapsed": true
   },
   "outputs": [],
   "source": []
  },
  {
   "cell_type": "code",
   "execution_count": null,
   "metadata": {
    "collapsed": true
   },
   "outputs": [],
   "source": []
  },
  {
   "cell_type": "code",
   "execution_count": null,
   "metadata": {
    "collapsed": true
   },
   "outputs": [],
   "source": []
  }
 ],
 "metadata": {
  "kernelspec": {
   "display_name": "Python 3",
   "language": "python",
   "name": "python3"
  },
  "language_info": {
   "codemirror_mode": {
    "name": "ipython",
    "version": 3
   },
   "file_extension": ".py",
   "mimetype": "text/x-python",
   "name": "python",
   "nbconvert_exporter": "python",
   "pygments_lexer": "ipython3",
   "version": "3.7.2"
  }
 },
 "nbformat": 4,
 "nbformat_minor": 2
}

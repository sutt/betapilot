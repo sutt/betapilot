{
 "cells": [
  {
   "cell_type": "code",
   "execution_count": 1,
   "metadata": {
    "collapsed": true
   },
   "outputs": [],
   "source": [
    "import os, sys, shutil, copy\n",
    "import random, math\n",
    "import numpy as np\n",
    "import json\n",
    "import cv2\n",
    "from matplotlib import pyplot as plt"
   ]
  },
  {
   "cell_type": "code",
   "execution_count": 16,
   "metadata": {},
   "outputs": [
    {
     "name": "stdout",
     "output_type": "stream",
     "text": [
      "The autoreload extension is already loaded. To reload it, use:\n",
      "  %reload_ext autoreload\n"
     ]
    }
   ],
   "source": [
    "sys.path.append(\"../\")\n",
    "%load_ext autoreload\n",
    "%autoreload 2\n",
    "from utils.utils import makeMini, myPlot, answerToPoints, meanTruth, newVals, iterMean\n",
    "from scorer_scripts_v2.scorer_scripts_v2.score_detections import score\n",
    "from starter_scripts_v2.starter_scripts_v2.helper import plot_bbox"
   ]
  },
  {
   "cell_type": "code",
   "execution_count": 3,
   "metadata": {},
   "outputs": [
    {
     "name": "stdout",
     "output_type": "stream",
     "text": [
      "../mini/mini2\n",
      "200\n",
      "['IMG_0053.JPG', 'IMG_0230.JPG', 'IMG_0237.JPG']...\n",
      "output truth  truth.json\n"
     ]
    }
   ],
   "source": [
    "makeMini(N=200)"
   ]
  },
  {
   "cell_type": "code",
   "execution_count": 4,
   "metadata": {
    "collapsed": true
   },
   "outputs": [],
   "source": [
    "p_truth = '../training_GT_labels_v2.json'\n",
    "with open(p_truth, 'r') as f:\n",
    "    truth = json.load(f)"
   ]
  },
  {
   "cell_type": "code",
   "execution_count": 5,
   "metadata": {},
   "outputs": [
    {
     "data": {
      "text/plain": [
       "[529, 335, 727, 334, 728, 597, 527, 598]"
      ]
     },
     "execution_count": 5,
     "metadata": {},
     "output_type": "execute_result"
    }
   ],
   "source": [
    "means = meanTruth(truth)\n",
    "[int(x) for x in means]"
   ]
  },
  {
   "cell_type": "code",
   "execution_count": 12,
   "metadata": {},
   "outputs": [
    {
     "data": {
      "text/plain": [
       "0.26182345452768074"
      ]
     },
     "execution_count": 12,
     "metadata": {},
     "output_type": "execute_result"
    }
   ],
   "source": [
    "truth_fn = '../mini/mini2/truth.json'\n",
    "with open(truth_fn, 'r') as f:\n",
    "    truth_mini = json.load(f)\n",
    "means_mini = meanTruth(truth_mini)\n",
    "predict_mini = newVals(copy.deepcopy(truth_mini), [copy.copy(means_mini)])\n",
    "score_mini = score(d_predict = predict_mini, d_truth = truth_mini)\n",
    "score_mini"
   ]
  },
  {
   "cell_type": "markdown",
   "metadata": {},
   "source": [
    "##### pred-actual on mini"
   ]
  },
  {
   "cell_type": "code",
   "execution_count": 19,
   "metadata": {},
   "outputs": [
    {
     "data": {
      "text/plain": [
       "1.0"
      ]
     },
     "execution_count": 19,
     "metadata": {},
     "output_type": "execute_result"
    }
   ],
   "source": [
    "score(d_predict=truth_mini,d_truth=truth_mini)"
   ]
  },
  {
   "cell_type": "code",
   "execution_count": 17,
   "metadata": {},
   "outputs": [
    {
     "name": "stdout",
     "output_type": "stream",
     "text": [
      "0\n",
      "1\n",
      "2\n",
      "3\n",
      "4\n",
      "5\n",
      "6\n"
     ]
    }
   ],
   "source": [
    "iter_list = iterMean(means_mini, truth_mini)"
   ]
  },
  {
   "cell_type": "code",
   "execution_count": 18,
   "metadata": {},
   "outputs": [
    {
     "data": {
      "text/plain": [
       "[[4,\n",
       "  20,\n",
       "  0.26822033665748524,\n",
       "  [523.095, 328.955, 722.72, 328.02, 743.98, 595.845, 519.83, 597.345]],\n",
       " [7,\n",
       "  10,\n",
       "  0.2689980028037372,\n",
       "  [523.095, 328.955, 722.72, 328.02, 743.98, 595.845, 519.83, 607.345]],\n",
       " [3,\n",
       "  -5,\n",
       "  0.26951505018756,\n",
       "  [523.095, 328.955, 722.72, 323.02, 743.98, 595.845, 519.83, 607.345]],\n",
       " [5,\n",
       "  -1,\n",
       "  0.26957055024306004,\n",
       "  [523.095, 328.955, 722.72, 323.02, 743.98, 594.845, 519.83, 607.345]],\n",
       " [2,\n",
       "  -1,\n",
       "  0.26974618867373207,\n",
       "  [523.095, 328.955, 721.72, 323.02, 743.98, 594.845, 519.83, 607.345]],\n",
       " [1,\n",
       "  -1,\n",
       "  0.2697843323482394,\n",
       "  [523.095, 327.955, 721.72, 323.02, 743.98, 594.845, 519.83, 607.345]],\n",
       " [5,\n",
       "  -1,\n",
       "  0.26983983240373943,\n",
       "  [523.095, 327.955, 721.72, 323.02, 743.98, 593.845, 519.83, 607.345]]]"
      ]
     },
     "execution_count": 18,
     "metadata": {},
     "output_type": "execute_result"
    }
   ],
   "source": [
    "iter_list"
   ]
  },
  {
   "cell_type": "code",
   "execution_count": 20,
   "metadata": {
    "collapsed": true
   },
   "outputs": [],
   "source": [
    "means_opt = copy.copy(iter_list[-1][3])"
   ]
  },
  {
   "cell_type": "code",
   "execution_count": 24,
   "metadata": {},
   "outputs": [],
   "source": [
    "predict_opt = newVals(copy.deepcopy(truth_mini), [copy.copy(means_opt)])"
   ]
  },
  {
   "cell_type": "code",
   "execution_count": 25,
   "metadata": {},
   "outputs": [
    {
     "data": {
      "text/plain": [
       "0.26983983240373943"
      ]
     },
     "execution_count": 25,
     "metadata": {},
     "output_type": "execute_result"
    }
   ],
   "source": [
    "score_opt = score(d_predict=predict_opt, d_truth=truth_mini)\n",
    "score_opt"
   ]
  },
  {
   "cell_type": "code",
   "execution_count": 26,
   "metadata": {},
   "outputs": [
    {
     "data": {
      "text/plain": [
       "0.26357278732259126"
      ]
     },
     "execution_count": 26,
     "metadata": {},
     "output_type": "execute_result"
    }
   ],
   "source": [
    "predict_mean = newVals(copy.deepcopy(truth_mini), [copy.copy(means)])\n",
    "score_mean = score(d_predict=predict_mean, d_truth=truth_mini)\n",
    "score_mean"
   ]
  },
  {
   "cell_type": "code",
   "execution_count": 27,
   "metadata": {},
   "outputs": [
    {
     "data": {
      "text/plain": [
       "0.00626704508114817"
      ]
     },
     "execution_count": 27,
     "metadata": {},
     "output_type": "execute_result"
    }
   ],
   "source": [
    "score_opt - score_mean"
   ]
  },
  {
   "cell_type": "code",
   "execution_count": 28,
   "metadata": {
    "collapsed": true
   },
   "outputs": [],
   "source": [
    "#0.6% improvement; not much!"
   ]
  },
  {
   "cell_type": "code",
   "execution_count": null,
   "metadata": {
    "collapsed": true
   },
   "outputs": [],
   "source": []
  }
 ],
 "metadata": {
  "kernelspec": {
   "display_name": "Python 2",
   "language": "python",
   "name": "python2"
  },
  "language_info": {
   "codemirror_mode": {
    "name": "ipython",
    "version": 2
   },
   "file_extension": ".py",
   "mimetype": "text/x-python",
   "name": "python",
   "nbconvert_exporter": "python",
   "pygments_lexer": "ipython2",
   "version": "2.7.13"
  }
 },
 "nbformat": 4,
 "nbformat_minor": 2
}

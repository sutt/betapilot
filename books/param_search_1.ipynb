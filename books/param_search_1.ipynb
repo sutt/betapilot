{
 "cells": [
  {
   "cell_type": "code",
   "execution_count": 26,
   "metadata": {
    "collapsed": true
   },
   "outputs": [],
   "source": [
    "import os, sys, random, copy, json, time\n",
    "import numpy as np\n",
    "import cv2\n",
    "import imutils\n",
    "import pandas as pd\n",
    "import tensorflow as tf\n",
    "from tensorflow import keras\n",
    "from tensorflow.keras.models import Sequential\n",
    "from tensorflow.keras.layers import (Dense, Conv2D, Dropout, \n",
    "                                     Flatten, MaxPooling2D)\n",
    "from matplotlib import pyplot as plt\n",
    "%matplotlib inline"
   ]
  },
  {
   "cell_type": "code",
   "execution_count": 2,
   "metadata": {
    "collapsed": true
   },
   "outputs": [],
   "source": [
    "%load_ext autoreload\n",
    "%autoreload 2"
   ]
  },
  {
   "cell_type": "code",
   "execution_count": 3,
   "metadata": {
    "collapsed": true
   },
   "outputs": [],
   "source": [
    "sys.path.append('../')"
   ]
  },
  {
   "cell_type": "code",
   "execution_count": 4,
   "metadata": {
    "collapsed": true
   },
   "outputs": [],
   "source": [
    "from utils.utils import makeMini, myPlot, answerToPoints, meanTruth, newVals, iterMean\n",
    "from scorer_scripts_v2.scorer_scripts_v2.score_detections import score\n",
    "from starter_scripts_v2.starter_scripts_v2.helper import plot_bbox\n",
    "\n",
    "from utils.misc import contrivedLabel, plotLabel, summaryStats, bagData\n",
    "from models.model import ModelBuilder\n",
    "from models.data import DataXPrep, DataYPrep"
   ]
  },
  {
   "cell_type": "code",
   "execution_count": 5,
   "metadata": {},
   "outputs": [
    {
     "data": {
      "text/plain": [
       "[('IMG_9622.JPG', [[583, 439, 772, 431, 779, 628, 582, 631]]),\n",
       " ('IMG_9925.JPG', [[481, 295, 769, 268, 777, 590, 480, 589]]),\n",
       " ('IMG_6733.JPG', [[593, 362, 650, 399, 649, 597, 589, 592]])]"
      ]
     },
     "execution_count": 5,
     "metadata": {},
     "output_type": "execute_result"
    }
   ],
   "source": [
    "p_truth = '../truth_new.json'\n",
    "with open(p_truth, 'r') as f:\n",
    "    truth = json.load(f)\n",
    "list(truth.items())[:3]"
   ]
  },
  {
   "cell_type": "code",
   "execution_count": 6,
   "metadata": {},
   "outputs": [
    {
     "name": "stdout",
     "output_type": "stream",
     "text": [
      "[('IMG_9622.JPG', 583), ('IMG_9925.JPG', 481), ('IMG_6733.JPG', 593)] \n",
      " [('IMG_9622.JPG', 439), ('IMG_9925.JPG', 295), ('IMG_6733.JPG', 362)]\n"
     ]
    }
   ],
   "source": [
    "truth_0 = {}\n",
    "for k in truth.keys():\n",
    "    if len(truth[k][0]) > 0:\n",
    "        truth_0[k] = truth[k][0][0]\n",
    "\n",
    "truth_1 = {}\n",
    "for k in truth.keys():\n",
    "    if len(truth[k][0]) > 0:\n",
    "        truth_1[k] = truth[k][0][1]\n",
    "        \n",
    "print (list(truth_0.items())[:3], '\\n', list(truth_1.items())[:3])"
   ]
  },
  {
   "cell_type": "code",
   "execution_count": 7,
   "metadata": {
    "collapsed": true
   },
   "outputs": [],
   "source": [
    "p_training = '../Data_Training/Data_Training/'\n",
    "def loadImg(fn):\n",
    "    return cv2.imread(p_training + fn)"
   ]
  },
  {
   "cell_type": "code",
   "execution_count": 12,
   "metadata": {
    "collapsed": true
   },
   "outputs": [],
   "source": [
    "random.seed(a=0, version=2)\n",
    "N = 1000\n",
    "batch = random.sample(list(truth_0.keys()), N)  # use truth_0 with no missing rects"
   ]
  },
  {
   "cell_type": "code",
   "execution_count": 13,
   "metadata": {},
   "outputs": [],
   "source": [
    "x_load = [loadImg(k) for k in batch]\n",
    "\n",
    "y0_load = [truth_0[k] for k in batch]\n",
    "y1_load = [truth_1[k] for k in batch]"
   ]
  },
  {
   "cell_type": "code",
   "execution_count": 22,
   "metadata": {
    "collapsed": true
   },
   "outputs": [],
   "source": [
    "from models.data import DataXPrep, DataYPrep"
   ]
  },
  {
   "cell_type": "code",
   "execution_count": 15,
   "metadata": {
    "collapsed": true
   },
   "outputs": [],
   "source": [
    "yPrep = DataYPrep()\n",
    "y0 = yPrep.normData_static(y0_load)\n",
    "y1 = yPrep.normData_static(y1_load)"
   ]
  },
  {
   "cell_type": "code",
   "execution_count": 16,
   "metadata": {
    "collapsed": true
   },
   "outputs": [],
   "source": [
    "xPrep = DataXPrep(data=x_load)\n",
    "xPrep.buildDataT(\n",
    "               b_resize=True,\n",
    "               resize_width=108,\n",
    "               b_cvt_grayscale=False\n",
    "              )\n",
    "x_t = xPrep.getDataT()\n",
    "input_shape = xPrep.getImgTShape()"
   ]
  },
  {
   "cell_type": "code",
   "execution_count": 23,
   "metadata": {
    "collapsed": true
   },
   "outputs": [],
   "source": [
    "xPrep = DataXPrep(data=x_load)\n",
    "xPrep.buildDataT(\n",
    "               b_resize=True,\n",
    "               resize_width=216,\n",
    "               b_cvt_grayscale=False\n",
    "              )\n",
    "x_t_large = xPrep.getDataT()\n",
    "input_shape_large = xPrep.getImgTShape()"
   ]
  },
  {
   "cell_type": "code",
   "execution_count": 24,
   "metadata": {},
   "outputs": [
    {
     "data": {
      "text/plain": [
       "(144, 216, 3)"
      ]
     },
     "execution_count": 24,
     "metadata": {},
     "output_type": "execute_result"
    }
   ],
   "source": [
    "input_shape_large"
   ]
  },
  {
   "cell_type": "code",
   "execution_count": 17,
   "metadata": {
    "collapsed": true
   },
   "outputs": [],
   "source": [
    "from tensorflow.keras.layers import (Dense, Conv2D, Dropout, \n",
    "                                     Flatten, MaxPooling2D)"
   ]
  },
  {
   "cell_type": "markdown",
   "metadata": {},
   "source": [
    "### Run Param Loop:\n",
    "\n",
    "results in mb_y0, mb_y1, time_log, time_log_y1\n",
    "\n",
    "set EPOCHS = 2 or 100"
   ]
  },
  {
   "cell_type": "code",
   "execution_count": 38,
   "metadata": {
    "collapsed": true
   },
   "outputs": [],
   "source": [
    "#free up memory? doesn't\n",
    "del x_load"
   ]
  },
  {
   "cell_type": "code",
   "execution_count": 39,
   "metadata": {
    "collapsed": true
   },
   "outputs": [],
   "source": [
    "mb_y0 = ModelBuilder()\n",
    "mb_y1 = ModelBuilder()"
   ]
  },
  {
   "cell_type": "code",
   "execution_count": null,
   "metadata": {
    "scrolled": true
   },
   "outputs": [
    {
     "name": "stdout",
     "output_type": "stream",
     "text": [
      "-------------------------------------------------------\n",
      "a\n",
      "Train on 500 samples, validate on 500 samples\n",
      "Epoch 1/100\n",
      "500/500 [==============================] - 6s 12ms/sample - loss: 32831551.7368 - mean_absolute_error: 1722.4116 - mean_squared_error: 32831554.0000 - val_loss: 15204.8788 - val_mean_absolute_error: 95.8133 - val_mean_squared_error: 15204.8779\n",
      "Epoch 2/100\n",
      "500/500 [==============================] - 5s 11ms/sample - loss: 52143.1304 - mean_absolute_error: 181.3826 - mean_squared_error: 52143.1367 - val_loss: 46983.2733 - val_mean_absolute_error: 198.5157 - val_mean_squared_error: 46983.2695\n",
      "Epoch 3/100\n",
      "500/500 [==============================] - 5s 10ms/sample - loss: 60869.0177 - mean_absolute_error: 196.9146 - mean_squared_error: 60869.0156 - val_loss: 12960.3854 - val_mean_absolute_error: 92.7771 - val_mean_squared_error: 12960.3838\n",
      "Epoch 4/100\n",
      "500/500 [==============================] - 5s 10ms/sample - loss: 49224.1742 - mean_absolute_error: 179.5175 - mean_squared_error: 49224.1758 - val_loss: 25562.8127 - val_mean_absolute_error: 135.9794 - val_mean_squared_error: 25562.8125\n",
      "Epoch 5/100\n",
      "500/500 [==============================] - 5s 10ms/sample - loss: 57676.2277 - mean_absolute_error: 198.3690 - mean_squared_error: 57676.2266 - val_loss: 107747.0155 - val_mean_absolute_error: 300.9097 - val_mean_squared_error: 107747.0234\n",
      "Epoch 6/100\n",
      "500/500 [==============================] - 5s 10ms/sample - loss: 74649.9245 - mean_absolute_error: 220.7211 - mean_squared_error: 74649.9219 - val_loss: 12394.6751 - val_mean_absolute_error: 87.3257 - val_mean_squared_error: 12394.6758\n",
      "Epoch 7/100\n",
      "500/500 [==============================] - 5s 10ms/sample - loss: 67919.8506 - mean_absolute_error: 210.1500 - mean_squared_error: 67919.8594 - val_loss: 20596.4988 - val_mean_absolute_error: 119.7246 - val_mean_squared_error: 20596.4980\n",
      "Epoch 8/100\n",
      "500/500 [==============================] - 5s 10ms/sample - loss: 40106.7234 - mean_absolute_error: 161.1750 - mean_squared_error: 40106.7227 - val_loss: 19214.2651 - val_mean_absolute_error: 112.2401 - val_mean_squared_error: 19214.2637\n",
      "Epoch 9/100\n",
      "500/500 [==============================] - 6s 11ms/sample - loss: 49418.3068 - mean_absolute_error: 183.1711 - mean_squared_error: 49418.3047 - val_loss: 16921.2753 - val_mean_absolute_error: 103.3791 - val_mean_squared_error: 16921.2773\n",
      "Epoch 10/100\n",
      "320/500 [==================>...........] - ETA: 1s - loss: 34560.1225 - mean_absolute_error: 152.7676 - mean_squared_error: 34560.1211"
     ]
    }
   ],
   "source": [
    "EPOCHS = 100\n",
    "time_log = {}\n",
    "\n",
    "for scenario in ['a','b','c','d','e','f','g','h','i','j','k',\n",
    "                 'cd', 'fg','ec' ]:\n",
    "    \n",
    "    #defaults\n",
    "    _vsplit = 0.5\n",
    "    _epochs = EPOCHS\n",
    "    _filters = 28\n",
    "    _kerneln = 3\n",
    "    _denseunits = 128\n",
    "    _dropoutfrac = 0.2\n",
    "    _lr = 0.001\n",
    "    _inputshape = input_shape\n",
    "    _x = x_t\n",
    "    \n",
    "    if 'a' in scenario:\n",
    "        pass\n",
    "    if 'b' in scenario:\n",
    "        _epochs = EPOCHS*2\n",
    "    if 'c' in scenario:\n",
    "        _filters = 28*2\n",
    "    if 'd' in scenario:\n",
    "        _kerneln = 6\n",
    "    if 'e' in scenario:\n",
    "        _inputshape = input_shape_large\n",
    "        _x = x_t_large\n",
    "    if 'f' in scenario:\n",
    "        _lr=0.002\n",
    "    if 'g' in scenario:\n",
    "        _denseunits = 256\n",
    "    if 'h' in scenario:\n",
    "        _dropoutfrac=0.3\n",
    "    if 'i' in scenario:\n",
    "        _dropoutfrac=0.1\n",
    "    if 'j' in scenario:\n",
    "        v_split = 0.2\n",
    "\n",
    "    print('-------------------------------------------------------')\n",
    "    print(scenario)\n",
    "    \n",
    "    mb_y0.setInputShape(_inputshape)\n",
    "    \n",
    "    mb_y0.buildModel(filters=_filters,\n",
    "                     kernel_n=_kerneln,\n",
    "                     dense_units=_denseunits,\n",
    "                     dropout_frac=_dropoutfrac,\n",
    "                     lr=_lr\n",
    "                     \n",
    "                    )\n",
    "    \n",
    "    t0 = time.time()\n",
    "    \n",
    "    mb_y0.fitModel(x=_x, y=y0, epochs=_epochs, validation_split=_vsplit)\n",
    "    \n",
    "    t1 = time.time()\n",
    "    \n",
    "    time_log[scenario] = t1 - t0\n",
    "    \n",
    "    \n"
   ]
  },
  {
   "cell_type": "code",
   "execution_count": null,
   "metadata": {},
   "outputs": [],
   "source": [
    "EPOCHS = 100\n",
    "time_log_y1 = {}\n",
    "\n",
    "for scenario in ['a','b','c','d','e','f','g','h','i','j','k',\n",
    "                 'cd', 'fg','ec' ]:\n",
    "    \n",
    "    #defaults\n",
    "    _vsplit = 0.5\n",
    "    _epochs = EPOCHS\n",
    "    _filters = 28\n",
    "    _kerneln = 3\n",
    "    _denseunits = 128\n",
    "    _dropoutfrac = 0.2\n",
    "    _lr = 0.001\n",
    "    _inputshape = input_shape\n",
    "    _x = x_t\n",
    "    \n",
    "    if 'a' in scenario:\n",
    "        pass\n",
    "    if 'b' in scenario:\n",
    "        _epochs = EPOCHS*2\n",
    "    if 'c' in scenario:\n",
    "        _filters = 28*2\n",
    "    if 'd' in scenario:\n",
    "        _kerneln = 6\n",
    "    if 'e' in scenario:\n",
    "        _inputshape = input_shape_large\n",
    "        _x = x_t_large\n",
    "    if 'f' in scenario:\n",
    "        _lr=0.002\n",
    "    if 'g' in scenario:\n",
    "        _denseunits = 256\n",
    "    if 'h' in scenario:\n",
    "        _dropoutfrac=0.3\n",
    "    if 'i' in scenario:\n",
    "        _dropoutfrac=0.1\n",
    "    if 'j' in scenario:\n",
    "        v_split = 0.2\n",
    "\n",
    "    \n",
    "    print('-------------------------------------------------------')\n",
    "    print(scenario)\n",
    "    \n",
    "    mb_y1.setInputShape(_inputshape)\n",
    "    \n",
    "    mb_y1.buildModel(filters=_filters,\n",
    "                     kernel_n=_kerneln,\n",
    "                     dense_units=_denseunits,\n",
    "                     dropout_frac=_dropoutfrac,\n",
    "                     lr=_lr\n",
    "                     \n",
    "                    )\n",
    "    \n",
    "    t0 = time.time()\n",
    "    \n",
    "    mb_y1.fitModel(x=_x, y=y1, epochs=_epochs, validation_split=_vsplit)\n",
    "    \n",
    "    t1 = time.time()\n",
    "    \n",
    "    time_log_y1[scenario] = t1 - t0\n",
    "    "
   ]
  },
  {
   "cell_type": "code",
   "execution_count": null,
   "metadata": {
    "collapsed": true
   },
   "outputs": [],
   "source": []
  },
  {
   "cell_type": "markdown",
   "metadata": {},
   "source": [
    "### Analyze TimeLog"
   ]
  },
  {
   "cell_type": "code",
   "execution_count": 30,
   "metadata": {},
   "outputs": [
    {
     "name": "stdout",
     "output_type": "stream",
     "text": [
      "('a', 11.750736236572266)\n",
      "('b', 20.90665578842163)\n",
      "('c', 18.07809352874756)\n",
      "('d', 18.34094548225403)\n",
      "('e', 45.656052350997925)\n",
      "('f', 12.67089295387268)\n",
      "('g', 16.61269187927246)\n",
      "('h', 12.357426643371582)\n",
      "('i', 12.280442953109741)\n",
      "('j', 12.983930110931396)\n",
      "('k', 12.981396675109863)\n",
      "('cd', 29.781049489974976)\n",
      "('fg', 17.16671919822693)\n",
      "('ec', 78.30956816673279)\n",
      "('eb', 93.17333030700684)\n"
     ]
    }
   ],
   "source": [
    "print('\\n'.join([str(x) for x in list(time_log.items())]))"
   ]
  },
  {
   "cell_type": "code",
   "execution_count": 31,
   "metadata": {},
   "outputs": [
    {
     "data": {
      "text/plain": [
       "413.04993176460266"
      ]
     },
     "execution_count": 31,
     "metadata": {},
     "output_type": "execute_result"
    }
   ],
   "source": [
    "sum(time_log.values())"
   ]
  },
  {
   "cell_type": "code",
   "execution_count": 33,
   "metadata": {},
   "outputs": [
    {
     "data": {
      "text/plain": [
       "320"
      ]
     },
     "execution_count": 33,
     "metadata": {},
     "output_type": "execute_result"
    }
   ],
   "source": [
    "413-93"
   ]
  },
  {
   "cell_type": "code",
   "execution_count": null,
   "metadata": {
    "collapsed": true
   },
   "outputs": [],
   "source": []
  },
  {
   "cell_type": "code",
   "execution_count": null,
   "metadata": {
    "collapsed": true
   },
   "outputs": [],
   "source": []
  }
 ],
 "metadata": {
  "kernelspec": {
   "display_name": "Python 3",
   "language": "python",
   "name": "python3"
  },
  "language_info": {
   "codemirror_mode": {
    "name": "ipython",
    "version": 3
   },
   "file_extension": ".py",
   "mimetype": "text/x-python",
   "name": "python",
   "nbconvert_exporter": "python",
   "pygments_lexer": "ipython3",
   "version": "3.7.2"
  }
 },
 "nbformat": 4,
 "nbformat_minor": 2
}

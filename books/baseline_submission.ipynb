{
 "cells": [
  {
   "cell_type": "code",
   "execution_count": 10,
   "metadata": {
    "collapsed": true
   },
   "outputs": [],
   "source": [
    "import pandas as pd\n",
    "import sqlalchemy\n",
    "import numpy as np\n",
    "import os, sys, copy, random, pickle, cv2, math\n",
    "from matplotlib import pyplot as plt\n",
    "%matplotlib inline\n",
    "from IPython.display import display\n",
    "import json\n",
    "sys.path.append(\"../\")\n",
    "%load_ext autoreload\n",
    "%autoreload 2\n",
    "from scorer_scripts_v2.scorer_scripts_v2.score_detections import score"
   ]
  },
  {
   "cell_type": "code",
   "execution_count": 2,
   "metadata": {},
   "outputs": [
    {
     "name": "stdout",
     "output_type": "stream",
     "text": [
      "1161\n"
     ]
    },
    {
     "data": {
      "text/plain": [
       "['IMG_0008.JPG',\n",
       " 'IMG_0023.JPG',\n",
       " 'IMG_0030.JPG',\n",
       " 'IMG_0038.JPG',\n",
       " 'IMG_0070.JPG']"
      ]
     },
     "execution_count": 2,
     "metadata": {},
     "output_type": "execute_result"
    }
   ],
   "source": [
    "p_leader = '../testing/images/'\n",
    "dir_leader = os.listdir(p_leader)\n",
    "print len(dir_leader)\n",
    "dir_leader[:5]"
   ]
  },
  {
   "cell_type": "code",
   "execution_count": 3,
   "metadata": {},
   "outputs": [
    {
     "data": {
      "text/plain": [
       "[529.1341332761946,\n",
       " 335.0982429826441,\n",
       " 727.459074351832,\n",
       " 334.7421255624598,\n",
       " 728.5013927576601,\n",
       " 597.3908292264838,\n",
       " 527.4163274051854,\n",
       " 598.7229483608314]"
      ]
     },
     "execution_count": 3,
     "metadata": {},
     "output_type": "execute_result"
    }
   ],
   "source": [
    "mean_inner = [529.1341332761946,\n",
    " 335.0982429826441,\n",
    " 727.459074351832,\n",
    " 334.7421255624598,\n",
    " 728.5013927576601,\n",
    " 597.3908292264838,\n",
    " 527.4163274051854,\n",
    " 598.7229483608314]\n",
    "mean_inner"
   ]
  },
  {
   "cell_type": "code",
   "execution_count": 4,
   "metadata": {},
   "outputs": [
    {
     "data": {
      "text/plain": [
       "[491.875, 285.875, 764.125, 284.875, 765.125, 646.125, 489.875, 647.125]"
      ]
     },
     "execution_count": 4,
     "metadata": {},
     "output_type": "execute_result"
    }
   ],
   "source": [
    "mean_outer = [491.875, 285.875, 764.125, 284.875, 765.125, 646.125, 489.875, 647.125]\n",
    "mean_outer"
   ]
  },
  {
   "cell_type": "code",
   "execution_count": 5,
   "metadata": {},
   "outputs": [
    {
     "data": {
      "text/plain": [
       "1161"
      ]
     },
     "execution_count": 5,
     "metadata": {},
     "output_type": "execute_result"
    }
   ],
   "source": [
    "d_predict = {}\n",
    "for fn in dir_leader:\n",
    "    d_predict[str(fn)] = [copy.copy(mean_inner), copy.copy(mean_outer)]\n",
    "len(d_predict)\n",
    "with open('mean_submission_2box.json', 'w') as f:\n",
    "    json.dump(d_predict, f)"
   ]
  },
  {
   "cell_type": "code",
   "execution_count": 8,
   "metadata": {},
   "outputs": [],
   "source": [
    "with open('mean_submission_2box.json', 'w') as f:\n",
    "    json.dump(d_predict, f)"
   ]
  },
  {
   "cell_type": "code",
   "execution_count": 11,
   "metadata": {
    "collapsed": true
   },
   "outputs": [],
   "source": [
    "d_predict = {}\n",
    "for fn in dir_leader:\n",
    "    d_predict[str(fn)] = [copy.copy(mean_inner)]\n",
    "len(d_predict)\n",
    "with open('mean_submission_1box.json', 'w') as f:\n",
    "    json.dump(d_predict, f)"
   ]
  },
  {
   "cell_type": "code",
   "execution_count": null,
   "metadata": {
    "collapsed": true
   },
   "outputs": [],
   "source": []
  },
  {
   "cell_type": "code",
   "execution_count": null,
   "metadata": {
    "collapsed": true
   },
   "outputs": [],
   "source": []
  },
  {
   "cell_type": "code",
   "execution_count": null,
   "metadata": {
    "collapsed": true
   },
   "outputs": [],
   "source": []
  },
  {
   "cell_type": "code",
   "execution_count": 13,
   "metadata": {},
   "outputs": [
    {
     "name": "stdout",
     "output_type": "stream",
     "text": [
      "9339\n"
     ]
    },
    {
     "data": {
      "text/plain": [
       "['IMG_0005.JPG',\n",
       " 'IMG_0006.JPG',\n",
       " 'IMG_0007.JPG',\n",
       " 'IMG_0012.JPG',\n",
       " 'IMG_0013.JPG']"
      ]
     },
     "execution_count": 13,
     "metadata": {},
     "output_type": "execute_result"
    }
   ],
   "source": [
    "p_train = '../Data_Training/Data_Training/'\n",
    "dir_train = os.listdir(p_train)\n",
    "print len(dir_train)\n",
    "dir_train[:5]"
   ]
  },
  {
   "cell_type": "code",
   "execution_count": 14,
   "metadata": {
    "collapsed": true
   },
   "outputs": [],
   "source": [
    "d_predict = {}\n",
    "for fn in dir_train:\n",
    "    d_predict[str(fn)] = [copy.copy(mean_inner)]\n",
    "len(d_predict)\n",
    "with open('mean_submission_train_1box.json', 'w') as f:\n",
    "    json.dump(d_predict, f)"
   ]
  },
  {
   "cell_type": "code",
   "execution_count": 15,
   "metadata": {},
   "outputs": [
    {
     "name": "stdout",
     "output_type": "stream",
     "text": [
      "9339 9339\n",
      "COCO mAP for detector is 0.242811220113\n"
     ]
    },
    {
     "data": {
      "text/plain": [
       "0.24281122011321563"
      ]
     },
     "execution_count": 15,
     "metadata": {},
     "output_type": "execute_result"
    }
   ],
   "source": [
    "p_truth = '../training_GT_labels_v2.json'\n",
    "p_mean_pred = 'mean_submission_train_1box.json'\n",
    "score(p_truth, p_mean_pred)"
   ]
  },
  {
   "cell_type": "code",
   "execution_count": null,
   "metadata": {
    "collapsed": true
   },
   "outputs": [],
   "source": []
  }
 ],
 "metadata": {
  "kernelspec": {
   "display_name": "Python 2",
   "language": "python",
   "name": "python2"
  },
  "language_info": {
   "codemirror_mode": {
    "name": "ipython",
    "version": 2
   },
   "file_extension": ".py",
   "mimetype": "text/x-python",
   "name": "python",
   "nbconvert_exporter": "python",
   "pygments_lexer": "ipython2",
   "version": "2.7.13"
  }
 },
 "nbformat": 4,
 "nbformat_minor": 2
}
